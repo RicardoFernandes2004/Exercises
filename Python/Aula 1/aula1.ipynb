{
 "cells": [
  {
   "cell_type": "code",
   "execution_count": null,
   "metadata": {},
   "outputs": [],
   "source": [
    "#transformar metros em milimetros\n",
    "metro = int(input(\"insira sua metragem\"))\n",
    "\n",
    "milimetro = metro*1000 #calculo da milimetragem\n",
    "\n",
    "print(f\"o valor de {metro} m em milimetro é de {milimetro} mm\") #exibição do resultado"
   ]
  },
  {
   "cell_type": "code",
   "execution_count": null,
   "metadata": {},
   "outputs": [],
   "source": [
    "#tempo do dia em segundos\n",
    "dia = int(input(\" Digite o dia: \"))\n",
    "hora = int(input(\" Digite a hora: \"))\n",
    "minuto = int(input(\" digite o minuto: \"))\n",
    "segundos = int(input(\" digite os segundos: \"))\n",
    "\n",
    "#separando as variaveis de calculo para exibir separadamente no final\n",
    "dia_em_sec = dia * 86400\n",
    "hora_em_sec = hora * 3600\n",
    "minuto_em_sec = minuto * 60\n",
    "\n",
    "total = dia_em_sec + hora_em_sec + minuto_em_sec + segundos #soma das variaveis\n",
    "\n",
    "#exibição dos resultados\n",
    "print(f\"o seu dia em segundos é {dia_em_sec}, as suas horas em segundos são {hora_em_sec}, os seus minutos em segundos são {minuto_em_sec}, os seus segundos inseridos foram {segundos}\")\n",
    "print(f\"o total do seu dia em segundos é de {total}\")\n"
   ]
  },
  {
   "cell_type": "code",
   "execution_count": null,
   "metadata": {},
   "outputs": [],
   "source": [
    "# programa que solicite o preço de uma mercadoria e o percentual de desconto, e mostra o valor do desconto e o valor a pagar\n",
    "preco = float(input(\"insira o preço da mercadoria\"))\n",
    "desc = float(input(\"insira o seu desconto\"))\n",
    "\n",
    "#calculos das variáveis\n",
    "valor_final =  preco - (preco * (desc / 100))\n",
    "economia = preco * (desc / 100)\n",
    "\n",
    "print(f\"o preço a ser pago é de {valor_final} reais e o desconto foi de {economia} reais\") # mostrar o preço final em reais e o quanto a pessoa economizou\n"
   ]
  },
  {
   "cell_type": "code",
   "execution_count": null,
   "metadata": {},
   "outputs": [],
   "source": [
    "# programa que calcule o tempo de uma viagem de carro. perguntando a distãncia a percorrer e a velocidade média esperada para a viagem\n",
    "distancia = int(input(\"qual é a distãncia até o destino em kilometros? \"))\n",
    "vm_esperada = int(input(\"qual é a velocidade média esperada em kilometros? \"))\n",
    "\n",
    "duracao = distancia  / vm_esperada  # calcula a duração da viagem\n",
    "\n",
    "print (f\"A duração da viagem será de {duracao} horas\") #mostrar a duração da viagem em horas\n",
    "\n"
   ]
  }
 ],
 "metadata": {
  "kernelspec": {
   "display_name": "Python 3",
   "language": "python",
   "name": "python3"
  },
  "language_info": {
   "codemirror_mode": {
    "name": "ipython",
    "version": 3
   },
   "file_extension": ".py",
   "mimetype": "text/x-python",
   "name": "python",
   "nbconvert_exporter": "python",
   "pygments_lexer": "ipython3",
   "version": "3.12.2"
  }
 },
 "nbformat": 4,
 "nbformat_minor": 2
}
