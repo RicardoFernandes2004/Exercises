{
 "cells": [
  {
   "cell_type": "code",
   "execution_count": null,
   "metadata": {},
   "outputs": [],
   "source": [
    "#transformar metros em milimetros\n",
    "metro = int(input(\"insira sua metragem\"))\n",
    "\n",
    "milimetro = metro*1000 #calculo da milimetragem\n",
    "\n",
    "print(f\"o valor de {metro} m em milimetro é de {milimetro} mm\") #exibição do resultado"
   ]
  },
  {
   "cell_type": "code",
   "execution_count": null,
   "metadata": {},
   "outputs": [],
   "source": [
    "#tempo do dia em segundos\n",
    "dia = int(input(\" Digite o dia: \"))\n",
    "hora = int(input(\" Digite a hora: \"))\n",
    "minuto = int(input(\" digite o minuto: \"))\n",
    "segundos = int(input(\" digite os segundos: \"))\n",
    "\n",
    "\n",
    "#exibição dos resultados\n",
    "print(f\"o seu dia em segundos é {dia * 86400}, as suas horas em segundos são {hora * 3600}, os seus minutos em segundos são {minuto * 60}, os seus segundos inseridos foram {segundos}\")\n",
    "print(f\"o total do seu dia em segundos é de {(dia * 86400) + (hora * 3600) + (minuto * 60 ) + segundos} segundos\")\n"
   ]
  },
  {
   "cell_type": "code",
   "execution_count": null,
   "metadata": {},
   "outputs": [],
   "source": [
    "# programa que solicite o preço de uma mercadoria e o percentual de desconto, e mostra o valor do desconto e o valor a pagar\n",
    "preco = float(input(\"insira o preço da mercadoria\"))\n",
    "desc = float(input(\"insira o seu desconto\"))\n",
    "\n",
    "\n",
    "\n",
    "print(f\"o preço a ser pago é de {preco - (preco * (desc / 100))} reais e o desconto foi de {preco * (desc / 100)} reais\") # mostrar o preço final em reais e o quanto a pessoa economizou\n"
   ]
  },
  {
   "cell_type": "code",
   "execution_count": null,
   "metadata": {},
   "outputs": [],
   "source": [
    "# programa que calcule o tempo de uma viagem de carro. perguntando a distãncia a percorrer e a velocidade média esperada para a viagem\n",
    "distancia = int(input(\"qual é a distãncia até o destino em kilometros? \"))\n",
    "vm_esperada = int(input(\"qual é a velocidade média esperada em kilometros? \"))\n",
    "\n",
    "\n",
    "print (f\"A duração da viagem será de {distancia/vm_esperada} horas\") #mostrar a duração da viagem em horas\n",
    "\n"
   ]
  },
  {
   "cell_type": "code",
   "execution_count": 10,
   "metadata": {},
   "outputs": [
    {
     "name": "stdout",
     "output_type": "stream",
     "text": [
      "se não tiver o valor digite 0\n",
      "O valor de P é 0.0\n",
      "(0.0, 0.0, 0.0)\n"
     ]
    }
   ],
   "source": [
    "# algoritmo para calcular a potencia em watts de um motor em corrente contínua de acordo com as equações: P = V x I; P = R x I**2; p = V**2 / R, o usuario deve poder escolher qual das equações usar.\n",
    "print(\"se não tiver o valor digite 0\")\n",
    "r = float(input(\"Digite seu R: \"))\n",
    "v = float(input(\"Digite seu V\"))\n",
    "i = float(input(\"digite seu I\"))\n",
    "\n",
    "def calcular_potencia(r, v, i):\n",
    "    if (r and v == 0) or  (r and i == 0) or (v and i == 0) or (r and v and i == 0):\n",
    "        return (\"Não é possível realizar a operação.\")\n",
    "    elif r == 0:\n",
    "        p = v * i\n",
    "        print(f\"O valor de P é {p}\")\n",
    "    elif v == 0:\n",
    "        p = r * i**2\n",
    "        print(f'o valor de P é {p}')\n",
    "    elif i == 0:\n",
    "        p = v**2 / r\n",
    "        print(f'o valor de P é {p}')\n",
    "    else:\n",
    "        print(\"insira pelo menos 2 valores\")\n",
    "    return(r, v, i)\n",
    "\n",
    "print(calcular_potencia(r, v, i))\n",
    "\n",
    "\n"
   ]
  }
 ],
 "metadata": {
  "kernelspec": {
   "display_name": "Python 3",
   "language": "python",
   "name": "python3"
  },
  "language_info": {
   "codemirror_mode": {
    "name": "ipython",
    "version": 3
   },
   "file_extension": ".py",
   "mimetype": "text/x-python",
   "name": "python",
   "nbconvert_exporter": "python",
   "pygments_lexer": "ipython3",
   "version": "3.12.2"
  }
 },
 "nbformat": 4,
 "nbformat_minor": 2
}
