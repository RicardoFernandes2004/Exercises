{
 "cells": [
  {
   "cell_type": "code",
   "execution_count": 1,
   "metadata": {},
   "outputs": [
    {
     "name": "stdout",
     "output_type": "stream",
     "text": [
      "0\n",
      "1\n",
      "2\n",
      "3\n",
      "4\n",
      "5\n",
      "6\n",
      "7\n",
      "8\n",
      "9\n"
     ]
    }
   ],
   "source": [
    "x=1\n",
    "\n",
    "for x in range (10):\n",
    "    print(x)\n",
    "    x+1\n",
    "    "
   ]
  },
  {
   "cell_type": "code",
   "execution_count": 12,
   "metadata": {},
   "outputs": [
    {
     "name": "stdout",
     "output_type": "stream",
     "text": [
      "1\n",
      "2\n",
      "3\n",
      "4\n",
      "5\n",
      "6\n",
      "7\n",
      "8\n",
      "9\n",
      "10\n"
     ]
    }
   ],
   "source": [
    "y = 0\n",
    "\n",
    "while y<10:\n",
    "    y+=1\n",
    "    print(y)\n",
    "    \n",
    "    "
   ]
  },
  {
   "cell_type": "code",
   "execution_count": 23,
   "metadata": {},
   "outputs": [
    {
     "name": "stdout",
     "output_type": "stream",
     "text": [
      "a soma é 334\n"
     ]
    }
   ],
   "source": [
    "lista = [1, 3, 5, 6]\n",
    "\n",
    "entrada = int(input('insira um número: '))\n",
    "soma = 0\n",
    "\n",
    "while entrada > 0:\n",
    "    soma += entrada\n",
    "    print(f'a soma é {soma}')\n",
    "    entrada = int(input(f'Insira um número: '))\n",
    "    \n"
   ]
  },
  {
   "cell_type": "code",
   "execution_count": 21,
   "metadata": {},
   "outputs": [
    {
     "name": "stdout",
     "output_type": "stream",
     "text": [
      "2\n",
      "23\n",
      "35\n",
      "5\n",
      "67\n",
      "43\n",
      "78\n"
     ]
    }
   ],
   "source": [
    "realizado = False\n",
    "while not realizado:\n",
    "    entrada = int(input('insira um numero'))\n",
    "    \n",
    "    if entrada >= 100:\n",
    "        realizado = True\n",
    "    else:\n",
    "        print(entrada)"
   ]
  },
  {
   "cell_type": "code",
   "execution_count": 24,
   "metadata": {},
   "outputs": [
    {
     "name": "stdout",
     "output_type": "stream",
     "text": [
      "A soma dos números será 12\n"
     ]
    }
   ],
   "source": [
    "soma = 0\n",
    "num = 3\n",
    "\n",
    "while num <= 5:\n",
    "    soma += num\n",
    "    num  += 1\n",
    "print(f'A soma dos números será {soma}')\n"
   ]
  },
  {
   "cell_type": "code",
   "execution_count": 28,
   "metadata": {},
   "outputs": [
    {
     "name": "stdout",
     "output_type": "stream",
     "text": [
      "15\n",
      "14\n",
      "13\n",
      "12\n",
      "11\n",
      "10\n",
      "9\n",
      "8\n",
      "7\n",
      "6\n",
      "5\n",
      "4\n",
      "3\n",
      "2\n",
      "1\n"
     ]
    }
   ],
   "source": [
    "# Exercícios\n",
    "\n",
    "# Crie um programa para realizar contagem regressiva\n",
    "\n",
    "reg = int(input('insira um número'))\n",
    "while reg != 0:\n",
    "    print(reg)\n",
    "    reg -= 1"
   ]
  },
  {
   "cell_type": "code",
   "execution_count": 54,
   "metadata": {},
   "outputs": [
    {
     "name": "stdout",
     "output_type": "stream",
     "text": [
      "1\n",
      "2\n",
      "6\n",
      "24\n",
      "120\n"
     ]
    }
   ],
   "source": [
    "#Crie um programa para fazer a multiplicação dos numeros de 1 a 5\n",
    "\n",
    "resultado = 1\n",
    "numero = 0\n",
    "while numero < 5:\n",
    "    numero += 1\n",
    "    resultado *= numero\n",
    "    print(resultado)\n",
    "    \n",
    "    "
   ]
  },
  {
   "cell_type": "code",
   "execution_count": 63,
   "metadata": {},
   "outputs": [
    {
     "name": "stdout",
     "output_type": "stream",
     "text": [
      "A temperatura 45.0 em celsius é: 7.222222222222222C°\n",
      "A temperatura 130.0 em celsius é: 54.44444444444444C°\n",
      "A temperatura 100.0 em celsius é: 37.77777777777778C°\n"
     ]
    }
   ],
   "source": [
    "# Crie um programa para solicitar a temperatura em fahrenheit para o usuário, e em seguida, utilize uma estrutura com repetição while\n",
    "# ficar repetindo a pergunta para o usuário inserir um numero e transformar a temperatura em graus celsius, até que o usuário digite 0 para sair\n",
    "\n",
    "fah = float(input(\"insira a temperatura em fahrenheit: \"))\n",
    "c = 0\n",
    "\n",
    "while fah != 0:\n",
    "    c = (fah-32)/1.8\n",
    "    print(f'A temperatura {fah} em celsius é: {c}C°')\n",
    "    fah = float(input('insira outra temperatura: '))"
   ]
  },
  {
   "cell_type": "code",
   "execution_count": 64,
   "metadata": {},
   "outputs": [
    {
     "name": "stdout",
     "output_type": "stream",
     "text": [
      "10\n",
      "9\n",
      "8\n",
      "7\n",
      "6\n"
     ]
    }
   ],
   "source": [
    "contador = 10\n",
    "while contador > 0: \n",
    "    print(contador)\n",
    "    contador -= 1\n",
    "    if contador == 5:\n",
    "        break\n",
    "        "
   ]
  },
  {
   "cell_type": "code",
   "execution_count": 68,
   "metadata": {},
   "outputs": [
    {
     "name": "stdout",
     "output_type": "stream",
     "text": [
      "1\n",
      "3\n",
      "5\n",
      "7\n",
      "9\n"
     ]
    }
   ],
   "source": [
    "numero= 0\n",
    "while numero < 10:\n",
    "    numero += 1 \n",
    "    if numero %2 == 0:\n",
    "        continue\n",
    "    print(numero) "
   ]
  },
  {
   "cell_type": "code",
   "execution_count": 73,
   "metadata": {},
   "outputs": [
    {
     "name": "stdout",
     "output_type": "stream",
     "text": [
      "H\n",
      "o\n",
      "j\n",
      "e\n",
      " \n",
      "n\n",
      "ã\n",
      "o\n",
      " \n",
      "é\n",
      " \n",
      "d\n",
      "i\n",
      " \n",
      "d\n",
      "e\n",
      " \n",
      "f\n",
      "e\n",
      "i\n",
      "j\n",
      "o\n",
      "d\n"
     ]
    }
   ],
   "source": [
    "frase = 'Hoje não é dia de feijoada'\n",
    "indice = 0\n",
    "while indice < len(frase):\n",
    "    if frase[indice] == \"a\":\n",
    "        indice += 1\n",
    "        continue\n",
    "    print(frase[indice])\n",
    "    indice += 1"
   ]
  },
  {
   "cell_type": "code",
   "execution_count": 135,
   "metadata": {},
   "outputs": [
    {
     "name": "stdout",
     "output_type": "stream",
     "text": [
      "r\n",
      "e\n",
      "f\n"
     ]
    }
   ],
   "source": [
    "#crie um programa para solicitar ao usuário uma frase ou texto e em seguida, crie uma letra alvo que queira. após isso, utilize a estrutura\n",
    "# continue e break\n",
    "solicitacao = str(input(\"digite um texto\"))\n",
    "indice = 0\n",
    "\n",
    "while indice < len(solicitacao):\n",
    "    if solicitacao[indice] == \"a\":\n",
    "        indice += 1\n",
    "        continue\n",
    "    print(solicitacao[indice])\n",
    "    indice += 1\n"
   ]
  },
  {
   "cell_type": "code",
   "execution_count": 116,
   "metadata": {},
   "outputs": [
    {
     "name": "stdout",
     "output_type": "stream",
     "text": [
      "s\n",
      "f\n",
      "]\n"
     ]
    }
   ],
   "source": [
    "#crie um programa para solicitar entrada para o usuário digitar uma palavra. depois, crie uma lista de caractéres específicos em uma string\n",
    "#para serem ignorados usando continue \n",
    "#ignorados [a, e, i, o, u]\n",
    "\n",
    "entrada = str(input('digite seu texto'))\n",
    "index = 0\n",
    "\n",
    "while index < len(entrada):\n",
    "    if entrada[index] in ['a', 'e', 'i', 'o', 'u']:\n",
    "        index += 1\n",
    "        continue\n",
    "    print(entrada[index])\n",
    "    index  += 1\n",
    "    \n",
    "    \n",
    "        \n",
    "\n",
    "\n",
    "\n",
    "\n"
   ]
  },
  {
   "cell_type": "code",
   "execution_count": 119,
   "metadata": {},
   "outputs": [
    {
     "name": "stdout",
     "output_type": "stream",
     "text": [
      "15.0\n"
     ]
    }
   ],
   "source": [
    "#crie um programa para calcular a media dos valores [10, 5, 30] usando while e len\n",
    "numeros = [10, 5, 30]\n",
    "soma = 0\n",
    "indice = 0\n",
    "\n",
    "while indice < len(numeros):\n",
    "    soma += numeros[indice]\n",
    "    indice += 1 \n",
    "\n",
    "media = soma / len(numeros)\n",
    "print(media)"
   ]
  },
  {
   "cell_type": "code",
   "execution_count": 126,
   "metadata": {},
   "outputs": [
    {
     "name": "stdout",
     "output_type": "stream",
     "text": [
      "1\n",
      "2\n",
      "3\n",
      "4\n",
      "5\n",
      "6\n",
      "7\n",
      "8\n",
      "9\n",
      "10\n"
     ]
    }
   ],
   "source": [
    "for i in range(1,11):\n",
    "    print(i)"
   ]
  },
  {
   "cell_type": "code",
   "execution_count": 134,
   "metadata": {},
   "outputs": [
    {
     "name": "stdout",
     "output_type": "stream",
     "text": [
      "sua temperatura 100.0 Fh em C° é 37.77777777777778\n",
      "sua temperatura 100.0 Fh em C° é 37.77777777777778\n"
     ]
    }
   ],
   "source": [
    "num_temperaturas = int(input(\"quantas temperaturas são?\"))\n",
    "for i in range(num_temperaturas):\n",
    "    tempFah = float(input('digite uma temperatura'))\n",
    "    tempCel = (tempFah - 32)/1.8\n",
    "    print(f'sua temperatura {tempFah} Fh em C° é {tempCel}')\n",
    "    \n",
    "\n"
   ]
  },
  {
   "cell_type": "code",
   "execution_count": 133,
   "metadata": {},
   "outputs": [
    {
     "name": "stdout",
     "output_type": "stream",
     "text": [
      "a letra E não foi encontrada\n"
     ]
    }
   ],
   "source": [
    "frase = input('digite uma frase')\n",
    "indice = 0\n",
    "encontrou_e = False\n",
    "\n",
    "while indice < len(frase):\n",
    "    if frase[indice] == 'e':\n",
    "        encontrou_e = True\n",
    "        break\n",
    "    indice += 1\n",
    "    \n",
    "if encontrou_e:\n",
    "    print('a letra E foi encontrada')\n",
    "else:\n",
    "    print('a letra E não foi encontrada')"
   ]
  }
 ],
 "metadata": {
  "kernelspec": {
   "display_name": "base",
   "language": "python",
   "name": "python3"
  },
  "language_info": {
   "codemirror_mode": {
    "name": "ipython",
    "version": 3
   },
   "file_extension": ".py",
   "mimetype": "text/x-python",
   "name": "python",
   "nbconvert_exporter": "python",
   "pygments_lexer": "ipython3",
   "version": "3.12.0"
  }
 },
 "nbformat": 4,
 "nbformat_minor": 2
}
