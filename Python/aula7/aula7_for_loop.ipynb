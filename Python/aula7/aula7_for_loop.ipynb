{
 "cells": [
  {
   "cell_type": "code",
   "execution_count": 18,
   "metadata": {},
   "outputs": [],
   "source": [
    "# Given an array of integers nums and an integer target, return indices of the two numbers such that they add up to target.\n",
    "\n",
    "# You may assume that each input would have exactly one solution, and you may not use the same element twice.\n",
    "\n",
    "# You can return the answer in any order.\n",
    "\n",
    " \n",
    "\n",
    "# Example 1:\n",
    "\n",
    "# Input: nums = [2,7,11,15], target = 9\n",
    "# Output: [0,1]\n",
    "# Explanation: Because nums[0] + nums[1] == 9, we return [0, 1].\n",
    "# Example 2:\n",
    "\n",
    "# Input: nums = [3,2,4], target = 6\n",
    "# Output: [1,2]\n",
    "# Example 3:\n",
    "\n",
    "# Input: nums = [3,3], target = 6\n",
    "# Output: [0,1]\n",
    " \n",
    "\n",
    "# Constraints:\n",
    "\n",
    "# 2 <= nums.length <= 104\n",
    "# -109 <= nums[i] <= 109\n",
    "# -109 <= target <= 109\n",
    "# Only one valid answer exists.\n",
    " \n",
    "\n",
    "# Follow-up: Can you come up with an algorithm that is less than O(n2) time complexity?\n",
    "\n",
    "                "
   ]
  },
  {
   "cell_type": "code",
   "execution_count": 21,
   "metadata": {},
   "outputs": [
    {
     "name": "stdout",
     "output_type": "stream",
     "text": [
      "s\n",
      "o\n",
      "j\n",
      "v\n",
      "a\n",
      "w\n",
      "f\n",
      "a\n",
      "n\n",
      "q\n",
      "w\n",
      "w\n",
      "w\n",
      "w\n",
      "w\n",
      "p\n",
      "m\n",
      "f\n"
     ]
    }
   ],
   "source": [
    "# 1. Crie um programa para o usuário inserir uma palavra ou um texto e print cada caractere da palavra ou do texto\n",
    "\n",
    "# 2. agora utilize o break para parar a estrutura de repetição na letra E\n",
    "\n",
    "# 3. agora utulize o continue para continuar a estrutura sem a letra E\n",
    "\n",
    "\n",
    "\n",
    "caractere = input(\"insira a palavra ou o texto\")\n",
    "\n",
    "for i in caractere:\n",
    "    if i == \"e\":\n",
    "        # break\n",
    "        continue\n",
    "    print(i)\n",
    "    "
   ]
  },
  {
   "cell_type": "code",
   "execution_count": 26,
   "metadata": {},
   "outputs": [
    {
     "name": "stdout",
     "output_type": "stream",
     "text": [
      "10\n",
      "25\n",
      "45\n",
      "70\n",
      "100\n"
     ]
    }
   ],
   "source": [
    "# 4. mostre como acumular os valores da lista = [ 10,15,20,25,30]\n",
    "\n",
    "\n",
    "\n",
    "lista = [10, 15, 20, 25, 30]\n",
    "cont = 0\n",
    "\n",
    "for i in lista:\n",
    "    cont += i\n",
    "    print(cont)\n",
    "\n"
   ]
  },
  {
   "cell_type": "code",
   "execution_count": 40,
   "metadata": {},
   "outputs": [
    {
     "name": "stdout",
     "output_type": "stream",
     "text": [
      "30\n",
      "25\n",
      "20\n",
      "15\n",
      "10\n"
     ]
    }
   ],
   "source": [
    "# 5. crie um programa para fazer uma contagem decrescente\n",
    "lista = [10, 15, 20, 25, 30]\n",
    "\n",
    "for num in sorted(lista, reverse=True):\n",
    "    print(num)\n",
    "    \n",
    "    "
   ]
  },
  {
   "cell_type": "code",
   "execution_count": 41,
   "metadata": {},
   "outputs": [
    {
     "name": "stdout",
     "output_type": "stream",
     "text": [
      "10\n",
      "9\n",
      "8\n",
      "7\n",
      "6\n",
      "5\n",
      "4\n",
      "3\n",
      "2\n",
      "1\n"
     ]
    }
   ],
   "source": [
    "lista = 11\n",
    "\n",
    "for counter in range(1, 11 ):\n",
    "    lista -= 1\n",
    "    print(lista)"
   ]
  },
  {
   "cell_type": "code",
   "execution_count": 45,
   "metadata": {},
   "outputs": [
    {
     "name": "stdout",
     "output_type": "stream",
     "text": [
      "1\n",
      "2\n",
      "3\n",
      "4\n",
      "5\n",
      "6\n",
      "7\n",
      "8\n",
      "9\n",
      "10\n",
      "11\n",
      "12\n",
      "13\n",
      "14\n",
      "15\n",
      "16\n",
      "17\n",
      "18\n",
      "19\n"
     ]
    }
   ],
   "source": [
    "# 1. crie um programa para contar a quantidade de vogais na lista texto = \"python é uma linguagem voltada para ciencia de dados\",\n",
    "# vogais = [\"a\", \"e\", \"i\", \"o\", \"u\", \"A\",\"E\",\"I\", \"O\", \"U\"]\n",
    "\n",
    "texto = \"python é uma linguagem voltada para ciencia de dados\"\n",
    "vog_comp = [\"a\", \"e\", \"i\", \"o\", \"u\", \"A\",\"E\",\"I\", \"O\", \"U\"]\n",
    "vogais = 0\n",
    "\n",
    "for i in texto:\n",
    "    if i in vog_comp:\n",
    "        vogais += 1\n",
    "        print(vogais)\n",
    "    else:\n",
    "        continue"
   ]
  }
 ],
 "metadata": {
  "kernelspec": {
   "display_name": "Python 3",
   "language": "python",
   "name": "python3"
  },
  "language_info": {
   "codemirror_mode": {
    "name": "ipython",
    "version": 3
   },
   "file_extension": ".py",
   "mimetype": "text/x-python",
   "name": "python",
   "nbconvert_exporter": "python",
   "pygments_lexer": "ipython3",
   "version": "3.12.0"
  }
 },
 "nbformat": 4,
 "nbformat_minor": 2
}
