{
 "cells": [
  {
   "cell_type": "code",
   "execution_count": 13,
   "metadata": {},
   "outputs": [
    {
     "name": "stdout",
     "output_type": "stream",
     "text": [
      "a area do seu círculo é 50.26548245743669\n"
     ]
    }
   ],
   "source": [
    "#codigo para calcular a area de um circulo\n",
    "import math\n",
    "raio = float(input(\"insira o raio\"))\n",
    "area = math.pi * (raio**2)\n",
    "print(f\"a area do seu círculo é {area}\")"
   ]
  },
  {
   "cell_type": "code",
   "execution_count": null,
   "metadata": {},
   "outputs": [],
   "source": [
    "#codigo para calcular a area de um retangulo\n",
    "base = float(input(\"digite sua base\"))\n",
    "altura = float(input(\"digite sua altura\"))\n",
    "area = base * altura\n",
    "print (F\"a area do seu retangulo é {area}\")  "
   ]
  },
  {
   "cell_type": "code",
   "execution_count": 15,
   "metadata": {},
   "outputs": [
    {
     "name": "stdout",
     "output_type": "stream",
     "text": [
      "seu primeiro valor é 6.0\n",
      "seu segundo valor é 7.0\n",
      "6.0 é menor que 7.0\n"
     ]
    }
   ],
   "source": [
    "#verificar se a é maior que b\n",
    "\n",
    "a = float(input(\" insira seu numero\"))\n",
    "b = float(input(\"insira seu segundo numero\"))\n",
    "\n",
    "print(f\"seu primeiro valor é {a}\")\n",
    "print(f\"seu segundo valor é {b}\")\n",
    "if(a > b):\n",
    "    print(f\"{a} é maior que {b}\")\n",
    "elif(a == b):\n",
    "    print(f\"os valores {a} e {b} são iguais\")\n",
    "else:\n",
    "    print(f\"{a} é menor que {b}\")"
   ]
  }
 ],
 "metadata": {
  "kernelspec": {
   "display_name": "Python 3",
   "language": "python",
   "name": "python3"
  },
  "language_info": {
   "codemirror_mode": {
    "name": "ipython",
    "version": 3
   },
   "file_extension": ".py",
   "mimetype": "text/x-python",
   "name": "python",
   "nbconvert_exporter": "python",
   "pygments_lexer": "ipython3",
   "version": "3.12.2"
  }
 },
 "nbformat": 4,
 "nbformat_minor": 2
}
