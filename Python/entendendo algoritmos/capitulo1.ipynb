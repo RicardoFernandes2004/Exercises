{
 "cells": [
  {
   "cell_type": "markdown",
   "metadata": {},
   "source": [
    "PESQUISA BINÁRIA\n",
    "O(logn)"
   ]
  },
  {
   "cell_type": "code",
   "execution_count": 6,
   "metadata": {},
   "outputs": [
    {
     "data": {
      "text/plain": [
       "50"
      ]
     },
     "execution_count": 6,
     "metadata": {},
     "output_type": "execute_result"
    }
   ],
   "source": [
    "def pesquisa_binaria(arr,target):\n",
    "    baixo = 0\n",
    "    alto = len(arr)-1\n",
    "    \n",
    "    while baixo <= alto:\n",
    "        meio = (baixo+alto)//2\n",
    "        if arr[meio] == target:\n",
    "            return meio\n",
    "        if arr[meio] < target:\n",
    "            baixo = meio+1\n",
    "        else:\n",
    "            alto = meio-1\n",
    "    return meio\n",
    "\n",
    "\n",
    "arr = range(0,100)\n",
    "\n",
    "pesquisa_binaria(arr, 50)\n",
    "    "
   ]
  },
  {
   "cell_type": "markdown",
   "metadata": {},
   "source": [
    "Sorting Algorithm\n",
    "O(n²)"
   ]
  },
  {
   "cell_type": "code",
   "execution_count": 9,
   "metadata": {},
   "outputs": [
    {
     "name": "stdout",
     "output_type": "stream",
     "text": [
      "[2, 3, 5, 6, 10]\n"
     ]
    }
   ],
   "source": [
    "def buscaMenor(arr):\n",
    "    menor = arr[0]\n",
    "    menor_indice = 0\n",
    "    for i in range(1, len(arr)):\n",
    "        if arr[i] < menor:\n",
    "            menor = arr[i]\n",
    "            menor_indice = i\n",
    "    return menor_indice\n",
    "    \n",
    "def ordenacaoPorSelecao(arr):\n",
    "    novoArr = []\n",
    "    for i in range(len(arr)):\n",
    "        menor = buscaMenor(arr)\n",
    "        novoArr.append(arr.pop(menor))\n",
    "    return novoArr\n",
    "        \n",
    "        \n",
    "\n",
    "print(ordenacaoPorSelecao([5,3,6,2,10]))\n",
    "    "
   ]
  },
  {
   "cell_type": "markdown",
   "metadata": {},
   "source": [
    "Recursão"
   ]
  },
  {
   "cell_type": "code",
   "execution_count": 21,
   "metadata": {},
   "outputs": [
    {
     "name": "stdout",
     "output_type": "stream",
     "text": [
      "5\n"
     ]
    }
   ],
   "source": [
    "listinha = []\n",
    "for k in range(0, 100):\n",
    "    listinha.append(k)\n",
    "\n",
    "def pesquisa_sequencial_recursiva(arr: list, target: int, index: int = 0) -> int:\n",
    "    # Caso base 1: Se o índice ultrapassar o tamanho da lista, retorna -1 (não encontrado)\n",
    "    if index >= len(arr):\n",
    "        return -1\n",
    "    # Caso base 2: Se encontrar o valor, retorna o índice\n",
    "    if arr[index] == target:\n",
    "        return index\n",
    "    # Passo recursivo: Continua procurando no próximo índice\n",
    "    return pesquisa_sequencial_recursiva(arr, target, index + 1)\n",
    "\n",
    "resultado = pesquisa_sequencial_recursiva(listinha, 5)\n",
    "print(resultado)  # Deve imprimir 5\n"
   ]
  },
  {
   "cell_type": "code",
   "execution_count": 8,
   "metadata": {},
   "outputs": [
    {
     "name": "stdout",
     "output_type": "stream",
     "text": [
      "10\n",
      "9\n",
      "8\n",
      "7\n",
      "6\n",
      "5\n",
      "4\n",
      "3\n",
      "2\n",
      "1\n"
     ]
    }
   ],
   "source": [
    "def regressiva(i):\n",
    "    if i <= 0:\n",
    "        return\n",
    "    \n",
    "    print(i)\n",
    "    regressiva(i-1)\n",
    "regressiva(10)"
   ]
  },
  {
   "cell_type": "markdown",
   "metadata": {},
   "source": [
    "coisa de aula q eu anotei no arquivo errado xdddddddddddddddddddd"
   ]
  },
  {
   "cell_type": "code",
   "execution_count": 5,
   "metadata": {},
   "outputs": [
    {
     "name": "stdout",
     "output_type": "stream",
     "text": [
      "[1500, 4322, 55656, 2200, 2445, 5433, 7544]\n",
      "[21, 455, 999, 234, 234]\n"
     ]
    }
   ],
   "source": [
    "lista_vendas=[1500,4322,55656,21,2200,455,2445,999,5433,7544,234,234]\n",
    "\n",
    "def lista_venda(lista):\n",
    "    acima_esperado = [venda for venda in lista if venda >= 1000]\n",
    "    abaixo_esperado =[venda for venda in lista if venda < 1000]\n",
    "    \n",
    "    return acima_esperado, abaixo_esperado\n",
    "\n",
    "a,b = lista_venda(lista_vendas)\n",
    "print(a)\n",
    "print(b)"
   ]
  },
  {
   "cell_type": "code",
   "execution_count": 6,
   "metadata": {},
   "outputs": [
    {
     "name": "stdout",
     "output_type": "stream",
     "text": [
      "[{'modelo': 'Tesla', 'status': 'vendido'}, {'modelo': 'Nissan_leaf', 'status': 'vendido'}, {'modelo': 'BMW i3', 'status': 'vendido'}, {'modelo': 'Hyundai kona', 'status': 'vendido'}]\n",
      "[{'modelo': 'Bolt', 'status': 'nao_vendido'}, {'modelo': 'BYD', 'status': 'nao_vendido'}, {'modelo': 'Song', 'status': 'nao_vendido'}]\n"
     ]
    }
   ],
   "source": [
    "lista_carros = [\n",
    "    {'modelo': 'Tesla', 'status': 'vendido'},\n",
    "    {'modelo': 'Nissan_leaf', 'status': 'vendido'},\n",
    "    {'modelo': 'Bolt', 'status': 'nao_vendido'},\n",
    "    {'modelo': 'BMW i3', 'status': 'vendido'},\n",
    "    {'modelo': 'Hyundai kona', 'status': 'vendido'},\n",
    "    {'modelo': 'BYD', 'status': 'nao_vendido'},\n",
    "    {'modelo': 'Song', 'status': 'nao_vendido'}      \n",
    "]\n",
    "\n",
    "def vendaCarros(lista):\n",
    "    carrosVendidos = [carro for carro in lista if carro['status'] == 'vendido']\n",
    "    carrosNaoVendidos = [carro for carro in lista if carro['status'] != 'vendido']\n",
    "    \n",
    "    return carrosVendidos, carrosNaoVendidos\n",
    "carrosVendidos, carrosNaoVendidos = vendaCarros(lista_carros)\n",
    "print(carrosVendidos)\n",
    "print(carrosNaoVendidos)\n",
    "\n"
   ]
  }
 ],
 "metadata": {
  "kernelspec": {
   "display_name": "base",
   "language": "python",
   "name": "python3"
  },
  "language_info": {
   "codemirror_mode": {
    "name": "ipython",
    "version": 3
   },
   "file_extension": ".py",
   "mimetype": "text/x-python",
   "name": "python",
   "nbconvert_exporter": "python",
   "pygments_lexer": "ipython3",
   "version": "3.11.7"
  }
 },
 "nbformat": 4,
 "nbformat_minor": 2
}
