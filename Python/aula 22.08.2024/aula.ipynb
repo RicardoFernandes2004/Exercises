{
 "cells": [
  {
   "cell_type": "code",
   "execution_count": 168,
   "metadata": {},
   "outputs": [],
   "source": [
    "import numpy as np\n",
    "import pandas as pd"
   ]
  },
  {
   "cell_type": "markdown",
   "metadata": {},
   "source": [
    "Aula 3: estrutura unidimensional e bidimensional"
   ]
  },
  {
   "cell_type": "code",
   "execution_count": 169,
   "metadata": {},
   "outputs": [
    {
     "name": "stdout",
     "output_type": "stream",
     "text": [
      "0    10\n",
      "1    20\n",
      "2    30\n",
      "3    40\n",
      "4    50\n",
      "Name: clt, dtype: int64\n",
      "0    1\n",
      "1    2\n",
      "2    3\n",
      "3    4\n",
      "4    5\n",
      "Name: pj, dtype: int64\n"
     ]
    }
   ],
   "source": [
    "# ex 1 - Panda Series\n",
    "\n",
    "s = pd.Series([10,20,30,40,50], name='clt')\n",
    "e = pd.Series([1,2,3,4,5], name='pj')\n",
    "smh = pd.Series(['MI','MA','EJ','JD','OS'],name='fon')\n",
    "\n",
    "# se = s ^ e\n",
    "# print(se)\n",
    "\n",
    "print(s)\n",
    "print(e)"
   ]
  },
  {
   "cell_type": "code",
   "execution_count": 170,
   "metadata": {},
   "outputs": [
    {
     "data": {
      "text/html": [
       "<div>\n",
       "<style scoped>\n",
       "    .dataframe tbody tr th:only-of-type {\n",
       "        vertical-align: middle;\n",
       "    }\n",
       "\n",
       "    .dataframe tbody tr th {\n",
       "        vertical-align: top;\n",
       "    }\n",
       "\n",
       "    .dataframe thead th {\n",
       "        text-align: right;\n",
       "    }\n",
       "</style>\n",
       "<table border=\"1\" class=\"dataframe\">\n",
       "  <thead>\n",
       "    <tr style=\"text-align: right;\">\n",
       "      <th></th>\n",
       "      <th>clt1</th>\n",
       "      <th>cnpjoto</th>\n",
       "      <th>smh</th>\n",
       "      <th>clthanos</th>\n",
       "    </tr>\n",
       "  </thead>\n",
       "  <tbody>\n",
       "    <tr>\n",
       "      <th>0</th>\n",
       "      <td>10</td>\n",
       "      <td>1</td>\n",
       "      <td>MI</td>\n",
       "      <td>11</td>\n",
       "    </tr>\n",
       "    <tr>\n",
       "      <th>1</th>\n",
       "      <td>20</td>\n",
       "      <td>2</td>\n",
       "      <td>MA</td>\n",
       "      <td>22</td>\n",
       "    </tr>\n",
       "    <tr>\n",
       "      <th>2</th>\n",
       "      <td>30</td>\n",
       "      <td>3</td>\n",
       "      <td>EJ</td>\n",
       "      <td>33</td>\n",
       "    </tr>\n",
       "    <tr>\n",
       "      <th>3</th>\n",
       "      <td>40</td>\n",
       "      <td>4</td>\n",
       "      <td>JD</td>\n",
       "      <td>44</td>\n",
       "    </tr>\n",
       "    <tr>\n",
       "      <th>4</th>\n",
       "      <td>50</td>\n",
       "      <td>5</td>\n",
       "      <td>OS</td>\n",
       "      <td>55</td>\n",
       "    </tr>\n",
       "  </tbody>\n",
       "</table>\n",
       "</div>"
      ],
      "text/plain": [
       "   clt1  cnpjoto smh  clthanos\n",
       "0    10        1  MI        11\n",
       "1    20        2  MA        22\n",
       "2    30        3  EJ        33\n",
       "3    40        4  JD        44\n",
       "4    50        5  OS        55"
      ]
     },
     "execution_count": 170,
     "metadata": {},
     "output_type": "execute_result"
    }
   ],
   "source": [
    "dados_clt = pd.DataFrame({'clt1': s,'cnpjoto': e,'smh': smh})\n",
    "dados_clt['clthanos'] = dados_clt['clt1'] + dados_clt['cnpjoto']\n",
    "\n",
    "dados_clt\n"
   ]
  },
  {
   "cell_type": "code",
   "execution_count": 171,
   "metadata": {},
   "outputs": [
    {
     "data": {
      "text/html": [
       "<div>\n",
       "<style scoped>\n",
       "    .dataframe tbody tr th:only-of-type {\n",
       "        vertical-align: middle;\n",
       "    }\n",
       "\n",
       "    .dataframe tbody tr th {\n",
       "        vertical-align: top;\n",
       "    }\n",
       "\n",
       "    .dataframe thead th {\n",
       "        text-align: right;\n",
       "    }\n",
       "</style>\n",
       "<table border=\"1\" class=\"dataframe\">\n",
       "  <thead>\n",
       "    <tr style=\"text-align: right;\">\n",
       "      <th></th>\n",
       "      <th>clt1</th>\n",
       "      <th>cnpjoto</th>\n",
       "      <th>smh</th>\n",
       "      <th>clthanos</th>\n",
       "      <th>iguabinha</th>\n",
       "    </tr>\n",
       "  </thead>\n",
       "  <tbody>\n",
       "    <tr>\n",
       "      <th>0</th>\n",
       "      <td>10</td>\n",
       "      <td>1</td>\n",
       "      <td>MI</td>\n",
       "      <td>11</td>\n",
       "      <td>9</td>\n",
       "    </tr>\n",
       "    <tr>\n",
       "      <th>1</th>\n",
       "      <td>20</td>\n",
       "      <td>2</td>\n",
       "      <td>MA</td>\n",
       "      <td>22</td>\n",
       "      <td>18</td>\n",
       "    </tr>\n",
       "    <tr>\n",
       "      <th>2</th>\n",
       "      <td>30</td>\n",
       "      <td>3</td>\n",
       "      <td>EJ</td>\n",
       "      <td>33</td>\n",
       "      <td>27</td>\n",
       "    </tr>\n",
       "    <tr>\n",
       "      <th>3</th>\n",
       "      <td>40</td>\n",
       "      <td>4</td>\n",
       "      <td>JD</td>\n",
       "      <td>44</td>\n",
       "      <td>36</td>\n",
       "    </tr>\n",
       "    <tr>\n",
       "      <th>4</th>\n",
       "      <td>50</td>\n",
       "      <td>5</td>\n",
       "      <td>OS</td>\n",
       "      <td>55</td>\n",
       "      <td>45</td>\n",
       "    </tr>\n",
       "  </tbody>\n",
       "</table>\n",
       "</div>"
      ],
      "text/plain": [
       "   clt1  cnpjoto smh  clthanos  iguabinha\n",
       "0    10        1  MI        11          9\n",
       "1    20        2  MA        22         18\n",
       "2    30        3  EJ        33         27\n",
       "3    40        4  JD        44         36\n",
       "4    50        5  OS        55         45"
      ]
     },
     "execution_count": 171,
     "metadata": {},
     "output_type": "execute_result"
    }
   ],
   "source": [
    "dados_clt['iguabinha'] = dados_clt['clt1']-dados_clt['cnpjoto']\n",
    "dados_clt"
   ]
  },
  {
   "cell_type": "code",
   "execution_count": 172,
   "metadata": {},
   "outputs": [
    {
     "data": {
      "text/html": [
       "<div>\n",
       "<style scoped>\n",
       "    .dataframe tbody tr th:only-of-type {\n",
       "        vertical-align: middle;\n",
       "    }\n",
       "\n",
       "    .dataframe tbody tr th {\n",
       "        vertical-align: top;\n",
       "    }\n",
       "\n",
       "    .dataframe thead th {\n",
       "        text-align: right;\n",
       "    }\n",
       "</style>\n",
       "<table border=\"1\" class=\"dataframe\">\n",
       "  <thead>\n",
       "    <tr style=\"text-align: right;\">\n",
       "      <th></th>\n",
       "      <th>clt1</th>\n",
       "      <th>cnpjoto</th>\n",
       "      <th>smh</th>\n",
       "      <th>clthanos</th>\n",
       "      <th>iguabinha</th>\n",
       "      <th>the rot consumes</th>\n",
       "    </tr>\n",
       "  </thead>\n",
       "  <tbody>\n",
       "    <tr>\n",
       "      <th>0</th>\n",
       "      <td>10</td>\n",
       "      <td>1</td>\n",
       "      <td>MI</td>\n",
       "      <td>11</td>\n",
       "      <td>9</td>\n",
       "      <td>10.0</td>\n",
       "    </tr>\n",
       "    <tr>\n",
       "      <th>1</th>\n",
       "      <td>20</td>\n",
       "      <td>2</td>\n",
       "      <td>MA</td>\n",
       "      <td>22</td>\n",
       "      <td>18</td>\n",
       "      <td>10.0</td>\n",
       "    </tr>\n",
       "    <tr>\n",
       "      <th>2</th>\n",
       "      <td>30</td>\n",
       "      <td>3</td>\n",
       "      <td>EJ</td>\n",
       "      <td>33</td>\n",
       "      <td>27</td>\n",
       "      <td>10.0</td>\n",
       "    </tr>\n",
       "    <tr>\n",
       "      <th>3</th>\n",
       "      <td>40</td>\n",
       "      <td>4</td>\n",
       "      <td>JD</td>\n",
       "      <td>44</td>\n",
       "      <td>36</td>\n",
       "      <td>10.0</td>\n",
       "    </tr>\n",
       "    <tr>\n",
       "      <th>4</th>\n",
       "      <td>50</td>\n",
       "      <td>5</td>\n",
       "      <td>OS</td>\n",
       "      <td>55</td>\n",
       "      <td>45</td>\n",
       "      <td>10.0</td>\n",
       "    </tr>\n",
       "  </tbody>\n",
       "</table>\n",
       "</div>"
      ],
      "text/plain": [
       "   clt1  cnpjoto smh  clthanos  iguabinha  the rot consumes\n",
       "0    10        1  MI        11          9              10.0\n",
       "1    20        2  MA        22         18              10.0\n",
       "2    30        3  EJ        33         27              10.0\n",
       "3    40        4  JD        44         36              10.0\n",
       "4    50        5  OS        55         45              10.0"
      ]
     },
     "execution_count": 172,
     "metadata": {},
     "output_type": "execute_result"
    }
   ],
   "source": [
    "dados_clt['the rot consumes'] = dados_clt['clt1'] / dados_clt['cnpjoto']\n",
    "dados_clt"
   ]
  },
  {
   "cell_type": "code",
   "execution_count": 173,
   "metadata": {},
   "outputs": [
    {
     "data": {
      "text/html": [
       "<div>\n",
       "<style scoped>\n",
       "    .dataframe tbody tr th:only-of-type {\n",
       "        vertical-align: middle;\n",
       "    }\n",
       "\n",
       "    .dataframe tbody tr th {\n",
       "        vertical-align: top;\n",
       "    }\n",
       "\n",
       "    .dataframe thead th {\n",
       "        text-align: right;\n",
       "    }\n",
       "</style>\n",
       "<table border=\"1\" class=\"dataframe\">\n",
       "  <thead>\n",
       "    <tr style=\"text-align: right;\">\n",
       "      <th></th>\n",
       "      <th>clt1</th>\n",
       "      <th>cnpjoto</th>\n",
       "      <th>smh</th>\n",
       "      <th>clthanos</th>\n",
       "      <th>iguabinha</th>\n",
       "      <th>the rot consumes</th>\n",
       "      <th>ximira Peixola</th>\n",
       "    </tr>\n",
       "  </thead>\n",
       "  <tbody>\n",
       "    <tr>\n",
       "      <th>0</th>\n",
       "      <td>10</td>\n",
       "      <td>1</td>\n",
       "      <td>MI</td>\n",
       "      <td>11</td>\n",
       "      <td>9</td>\n",
       "      <td>10.0</td>\n",
       "      <td>10</td>\n",
       "    </tr>\n",
       "    <tr>\n",
       "      <th>1</th>\n",
       "      <td>20</td>\n",
       "      <td>2</td>\n",
       "      <td>MA</td>\n",
       "      <td>22</td>\n",
       "      <td>18</td>\n",
       "      <td>10.0</td>\n",
       "      <td>40</td>\n",
       "    </tr>\n",
       "    <tr>\n",
       "      <th>2</th>\n",
       "      <td>30</td>\n",
       "      <td>3</td>\n",
       "      <td>EJ</td>\n",
       "      <td>33</td>\n",
       "      <td>27</td>\n",
       "      <td>10.0</td>\n",
       "      <td>90</td>\n",
       "    </tr>\n",
       "    <tr>\n",
       "      <th>3</th>\n",
       "      <td>40</td>\n",
       "      <td>4</td>\n",
       "      <td>JD</td>\n",
       "      <td>44</td>\n",
       "      <td>36</td>\n",
       "      <td>10.0</td>\n",
       "      <td>160</td>\n",
       "    </tr>\n",
       "    <tr>\n",
       "      <th>4</th>\n",
       "      <td>50</td>\n",
       "      <td>5</td>\n",
       "      <td>OS</td>\n",
       "      <td>55</td>\n",
       "      <td>45</td>\n",
       "      <td>10.0</td>\n",
       "      <td>250</td>\n",
       "    </tr>\n",
       "  </tbody>\n",
       "</table>\n",
       "</div>"
      ],
      "text/plain": [
       "   clt1  cnpjoto smh  clthanos  iguabinha  the rot consumes  ximira Peixola\n",
       "0    10        1  MI        11          9              10.0              10\n",
       "1    20        2  MA        22         18              10.0              40\n",
       "2    30        3  EJ        33         27              10.0              90\n",
       "3    40        4  JD        44         36              10.0             160\n",
       "4    50        5  OS        55         45              10.0             250"
      ]
     },
     "execution_count": 173,
     "metadata": {},
     "output_type": "execute_result"
    }
   ],
   "source": [
    "dados_clt['ximira Peixola'] = dados_clt['clt1']* dados_clt['cnpjoto']\n",
    "dados_clt"
   ]
  },
  {
   "cell_type": "code",
   "execution_count": 174,
   "metadata": {},
   "outputs": [
    {
     "data": {
      "text/html": [
       "<div>\n",
       "<style scoped>\n",
       "    .dataframe tbody tr th:only-of-type {\n",
       "        vertical-align: middle;\n",
       "    }\n",
       "\n",
       "    .dataframe tbody tr th {\n",
       "        vertical-align: top;\n",
       "    }\n",
       "\n",
       "    .dataframe thead th {\n",
       "        text-align: right;\n",
       "    }\n",
       "</style>\n",
       "<table border=\"1\" class=\"dataframe\">\n",
       "  <thead>\n",
       "    <tr style=\"text-align: right;\">\n",
       "      <th></th>\n",
       "      <th>clt1</th>\n",
       "      <th>cnpjoto</th>\n",
       "      <th>smh</th>\n",
       "      <th>clthanos</th>\n",
       "      <th>iguabinha</th>\n",
       "      <th>the rot consumes</th>\n",
       "      <th>ximira Peixola</th>\n",
       "      <th>yo fon linging</th>\n",
       "    </tr>\n",
       "  </thead>\n",
       "  <tbody>\n",
       "    <tr>\n",
       "      <th>0</th>\n",
       "      <td>10</td>\n",
       "      <td>1</td>\n",
       "      <td>MI</td>\n",
       "      <td>11</td>\n",
       "      <td>9</td>\n",
       "      <td>10.0</td>\n",
       "      <td>10</td>\n",
       "      <td>0</td>\n",
       "    </tr>\n",
       "    <tr>\n",
       "      <th>1</th>\n",
       "      <td>20</td>\n",
       "      <td>2</td>\n",
       "      <td>MA</td>\n",
       "      <td>22</td>\n",
       "      <td>18</td>\n",
       "      <td>10.0</td>\n",
       "      <td>40</td>\n",
       "      <td>0</td>\n",
       "    </tr>\n",
       "    <tr>\n",
       "      <th>2</th>\n",
       "      <td>30</td>\n",
       "      <td>3</td>\n",
       "      <td>EJ</td>\n",
       "      <td>33</td>\n",
       "      <td>27</td>\n",
       "      <td>10.0</td>\n",
       "      <td>90</td>\n",
       "      <td>0</td>\n",
       "    </tr>\n",
       "    <tr>\n",
       "      <th>3</th>\n",
       "      <td>40</td>\n",
       "      <td>4</td>\n",
       "      <td>JD</td>\n",
       "      <td>44</td>\n",
       "      <td>36</td>\n",
       "      <td>10.0</td>\n",
       "      <td>160</td>\n",
       "      <td>0</td>\n",
       "    </tr>\n",
       "    <tr>\n",
       "      <th>4</th>\n",
       "      <td>50</td>\n",
       "      <td>5</td>\n",
       "      <td>OS</td>\n",
       "      <td>55</td>\n",
       "      <td>45</td>\n",
       "      <td>10.0</td>\n",
       "      <td>250</td>\n",
       "      <td>0</td>\n",
       "    </tr>\n",
       "  </tbody>\n",
       "</table>\n",
       "</div>"
      ],
      "text/plain": [
       "   clt1  cnpjoto smh  clthanos  iguabinha  the rot consumes  ximira Peixola  \\\n",
       "0    10        1  MI        11          9              10.0              10   \n",
       "1    20        2  MA        22         18              10.0              40   \n",
       "2    30        3  EJ        33         27              10.0              90   \n",
       "3    40        4  JD        44         36              10.0             160   \n",
       "4    50        5  OS        55         45              10.0             250   \n",
       "\n",
       "   yo fon linging  \n",
       "0               0  \n",
       "1               0  \n",
       "2               0  \n",
       "3               0  \n",
       "4               0  "
      ]
     },
     "execution_count": 174,
     "metadata": {},
     "output_type": "execute_result"
    }
   ],
   "source": [
    "dados_clt['yo fon linging']= dados_clt['clt1'] % dados_clt['cnpjoto']\n",
    "dados_clt"
   ]
  },
  {
   "cell_type": "code",
   "execution_count": 175,
   "metadata": {},
   "outputs": [
    {
     "data": {
      "text/plain": [
       "array([[1, 2, 3],\n",
       "       [4, 5, 6]])"
      ]
     },
     "execution_count": 175,
     "metadata": {},
     "output_type": "execute_result"
    }
   ],
   "source": [
    "matriz = np.array([[1,2,3],[4,5,6]])\n",
    "matriz"
   ]
  },
  {
   "cell_type": "code",
   "execution_count": 176,
   "metadata": {},
   "outputs": [
    {
     "data": {
      "text/plain": [
       "array([[ 2,  4,  6],\n",
       "       [ 8, 10, 12]])"
      ]
     },
     "execution_count": 176,
     "metadata": {},
     "output_type": "execute_result"
    }
   ],
   "source": [
    "resultado = matriz * 2\n",
    "resultado"
   ]
  },
  {
   "cell_type": "code",
   "execution_count": 177,
   "metadata": {},
   "outputs": [
    {
     "data": {
      "text/plain": [
       "6"
      ]
     },
     "execution_count": 177,
     "metadata": {},
     "output_type": "execute_result"
    }
   ],
   "source": [
    "elemento = matriz[1,2]\n",
    "elemento"
   ]
  },
  {
   "cell_type": "code",
   "execution_count": 178,
   "metadata": {},
   "outputs": [
    {
     "data": {
      "text/plain": [
       "3.5"
      ]
     },
     "execution_count": 178,
     "metadata": {},
     "output_type": "execute_result"
    }
   ],
   "source": [
    "# estatística basica\n",
    "\n",
    "media = np.mean(matriz)\n",
    "media"
   ]
  },
  {
   "cell_type": "code",
   "execution_count": 179,
   "metadata": {},
   "outputs": [
    {
     "data": {
      "text/plain": [
       "2.1921577396609844"
      ]
     },
     "execution_count": 179,
     "metadata": {},
     "output_type": "execute_result"
    }
   ],
   "source": [
    "desvio_padrao = np.std([1,3,1,5,2,7])\n",
    "desvio_padrao"
   ]
  },
  {
   "cell_type": "code",
   "execution_count": 180,
   "metadata": {},
   "outputs": [],
   "source": [
    "arraia_a_jato = []\n",
    "for i in range(100):\n",
    "    arraia_a_jato.append(i)\n",
    "    \n",
    "ball = pd.Series(arraia_a_jato, name='cano')\n",
    "\n",
    "\n"
   ]
  },
  {
   "cell_type": "code",
   "execution_count": 181,
   "metadata": {},
   "outputs": [
    {
     "name": "stdout",
     "output_type": "stream",
     "text": [
      "3\n"
     ]
    }
   ],
   "source": [
    "print(ball[3])"
   ]
  },
  {
   "cell_type": "code",
   "execution_count": 182,
   "metadata": {},
   "outputs": [
    {
     "data": {
      "text/plain": [
       "0     7\n",
       "1     9\n",
       "2    11\n",
       "3    13\n",
       "4    15\n",
       "dtype: int64"
      ]
     },
     "execution_count": 182,
     "metadata": {},
     "output_type": "execute_result"
    }
   ],
   "source": [
    "ximira = pd.Series([1,2,3,4,5],name='ximira')\n",
    "xelo = pd.Series([6,7,8,9,10],name='xelo')\n",
    "\n",
    "ximira + xelo"
   ]
  },
  {
   "cell_type": "code",
   "execution_count": 183,
   "metadata": {},
   "outputs": [
    {
     "name": "stdout",
     "output_type": "stream",
     "text": [
      "5\n",
      "6\n",
      "7\n",
      "8\n",
      "9\n",
      "10\n"
     ]
    }
   ],
   "source": [
    "ximiraXelo = pd.Series([1,2,3,4,5,6,7,8,9,10], name='ximiraXelo')\n",
    "for i in range(len(ximiraXelo)):\n",
    "    if ximiraXelo[i]>=5:\n",
    "        print(ximiraXelo[i])"
   ]
  },
  {
   "cell_type": "code",
   "execution_count": 184,
   "metadata": {},
   "outputs": [
    {
     "name": "stdout",
     "output_type": "stream",
     "text": [
      "5.5\n",
      "3.0276503540974917\n"
     ]
    }
   ],
   "source": [
    "print(ximiraXelo.mean())\n",
    "print(ximiraXelo.std())"
   ]
  },
  {
   "cell_type": "code",
   "execution_count": 185,
   "metadata": {},
   "outputs": [
    {
     "data": {
      "text/plain": [
       "0     1\n",
       "1     2\n",
       "2     3\n",
       "3     4\n",
       "4     5\n",
       "0     6\n",
       "1     7\n",
       "2     8\n",
       "3     9\n",
       "4    10\n",
       "dtype: int64"
      ]
     },
     "execution_count": 185,
     "metadata": {},
     "output_type": "execute_result"
    }
   ],
   "source": [
    "ximiraXelo_the_returnal = pd.concat([ximira,xelo])\n",
    "ximiraXelo_the_returnal"
   ]
  },
  {
   "cell_type": "code",
   "execution_count": 186,
   "metadata": {},
   "outputs": [
    {
     "data": {
      "text/plain": [
       "0     10\n",
       "1      8\n",
       "2      6\n",
       "3      4\n",
       "4      2\n",
       "5      0\n",
       "6     -2\n",
       "7     -4\n",
       "8     -6\n",
       "9     -8\n",
       "10   -10\n",
       "dtype: int64"
      ]
     },
     "execution_count": 186,
     "metadata": {},
     "output_type": "execute_result"
    }
   ],
   "source": [
    "positiva = pd.Series([0,1,2,3,4,5,6,7,8,9,10],name='positiva')\n",
    "negativa = pd.Series([10,9,8,7,6,5,4,3,2,1,0],name='negativa')\n",
    "\n",
    "negativa-positiva"
   ]
  },
  {
   "cell_type": "code",
   "execution_count": 187,
   "metadata": {},
   "outputs": [
    {
     "data": {
      "text/plain": [
       "0    10\n",
       "1     9\n",
       "2     8\n",
       "3     7\n",
       "4     6\n",
       "5     5\n",
       "6     4\n",
       "7     3\n",
       "8     2\n",
       "9     1\n",
       "Name: isso, dtype: int64"
      ]
     },
     "execution_count": 187,
     "metadata": {},
     "output_type": "execute_result"
    }
   ],
   "source": [
    "ximiraInverso=reversed(ximiraXelo)\n",
    "pdInversoDoXimiraInverso = []\n",
    "for i in ximiraInverso:\n",
    "    pdInversoDoXimiraInverso.append(i)\n",
    "pdLa = pd.Series(pdInversoDoXimiraInverso,name='isso')\n",
    "\n",
    "pdLa"
   ]
  },
  {
   "cell_type": "code",
   "execution_count": 188,
   "metadata": {},
   "outputs": [
    {
     "data": {
      "text/plain": [
       "0    False\n",
       "1    False\n",
       "2    False\n",
       "3    False\n",
       "4    False\n",
       "5    False\n",
       "6    False\n",
       "7    False\n",
       "8    False\n",
       "9    False\n",
       "Name: ximiraXelo, dtype: bool"
      ]
     },
     "execution_count": 188,
     "metadata": {},
     "output_type": "execute_result"
    }
   ],
   "source": [
    "ximiraXelo.duplicated()\n",
    "    "
   ]
  },
  {
   "cell_type": "code",
   "execution_count": 189,
   "metadata": {},
   "outputs": [
    {
     "name": "stdout",
     "output_type": "stream",
     "text": [
      "2    3\n",
      "3    4\n",
      "4    5\n",
      "5    6\n",
      "6    7\n",
      "Name: ximiraXelo, dtype: int64\n"
     ]
    }
   ],
   "source": [
    "print(ximiraXelo[2:7])"
   ]
  },
  {
   "cell_type": "code",
   "execution_count": 190,
   "metadata": {},
   "outputs": [],
   "source": [
    "'''Uma loja de eletronicos deseja analisar seus dados de vendas para entender melhor o desempenho\n",
    "de seus produtos ao longo do tempo. eles possuem um arquivo CSV com informações sobre as vendas de vários produtos ai longo\n",
    "dos meses. o objetivo é usar o pandas series para realizar algumas análises básicas e responder algumas perguntas sobre os dados de vendas'''\n",
    "linha_produto = pd.Series(['celular','celular','celular','tablet','tablet','tablet','notebook','notebook','notebook','notebook'], name='Produto')\n",
    "linha_mes = pd.Series(['jan-2023','fev-2023','mar-2023','jan-2023','fev-2023','mar-2023','jan-2023','fev-2023','mar-2023','fev-2023'], name = ' mes')\n",
    "linha_vendas = pd.Series([150,180,200,100,120,130,80,90,100,400], name='vendas')\n",
    "\n",
    "db = pd.DataFrame({'Produto': linha_produto, 'mes': linha_mes, 'vendas': linha_vendas})\n",
    "\n",
    "db.to_csv(path_or_buf='aula 22.08.2024')"
   ]
  },
  {
   "cell_type": "code",
   "execution_count": 191,
   "metadata": {},
   "outputs": [
    {
     "data": {
      "text/plain": [
       "Produto   mes     \n",
       "celular   fev-2023    180\n",
       "          jan-2023    150\n",
       "          mar-2023    200\n",
       "notebook  fev-2023    490\n",
       "          jan-2023     80\n",
       "          mar-2023    100\n",
       "tablet    fev-2023    120\n",
       "          jan-2023    100\n",
       "          mar-2023    130\n",
       "Name: vendas, dtype: int64"
      ]
     },
     "execution_count": 191,
     "metadata": {},
     "output_type": "execute_result"
    }
   ],
   "source": [
    "db.groupby(['Produto','mes'])['vendas'].sum()\n"
   ]
  }
 ],
 "metadata": {
  "kernelspec": {
   "display_name": "base",
   "language": "python",
   "name": "python3"
  },
  "language_info": {
   "codemirror_mode": {
    "name": "ipython",
    "version": 3
   },
   "file_extension": ".py",
   "mimetype": "text/x-python",
   "name": "python",
   "nbconvert_exporter": "python",
   "pygments_lexer": "ipython3",
   "version": "3.11.7"
  }
 },
 "nbformat": 4,
 "nbformat_minor": 2
}
