{
 "cells": [
  {
   "cell_type": "code",
   "execution_count": 12,
   "metadata": {},
   "outputs": [
    {
     "name": "stdout",
     "output_type": "stream",
     "text": [
      "('foo', [2, 4, 24], True)\n"
     ]
    }
   ],
   "source": [
    "tupla = (\"foo\",[2,4], True)\n",
    "\n",
    "tupla[1].append(24)\n",
    "print(tupla)\n",
    "    "
   ]
  },
  {
   "cell_type": "code",
   "execution_count": 29,
   "metadata": {},
   "outputs": [
    {
     "name": "stdout",
     "output_type": "stream",
     "text": [
      "('foo', [13, 23], 'poggers', False)\n"
     ]
    }
   ],
   "source": [
    "def tupleInsert(tupleToModify,index, info):\n",
    "    tuplalista = list(tupleToModify)\n",
    "    tuplalista.insert(index,info)\n",
    "    \n",
    "    \n",
    "    return tuple(tuplalista)\n",
    "\n",
    "\n",
    "top = ('foo',[13,23], False)\n",
    "\n",
    "print(tupleInsert(top,2,'poggers'))\n"
   ]
  },
  {
   "cell_type": "code",
   "execution_count": 31,
   "metadata": {},
   "outputs": [
    {
     "name": "stdout",
     "output_type": "stream",
     "text": [
      "0\n",
      "banana\n",
      "('maçã', 'banana', 'laranja', 'uva', 'abacaxi', 'limao')\n",
      "tem uva!\n"
     ]
    }
   ],
   "source": [
    "frutas = ('maçã', 'banana', 'laranja', 'uva')\n",
    "\n",
    "print(frutas[1])\n",
    "\n",
    "tupleInsert(frutas,2,'manga')\n",
    "\n",
    "frutas_concatenadas = frutas + ('abacaxi', 'limao')\n",
    "\n",
    "print(frutas_concatenadas)\n",
    "\n",
    "for i in frutas_concatenadas:\n",
    "    if i == 'uva':\n",
    "        print('tem uva!')\n",
    "        \n",
    "\n"
   ]
  },
  {
   "cell_type": "code",
   "execution_count": 35,
   "metadata": {},
   "outputs": [
    {
     "name": "stdout",
     "output_type": "stream",
     "text": [
      "Aluno: ana, Média: 83.33333333333333\n",
      "Aluno: laura, Média: 83.33333333333333\n",
      "Aluno: mark, Média: 88.33333333333333\n",
      "Aluno: camila, Média: 82.0\n"
     ]
    }
   ],
   "source": [
    "''' Crie um algoritmo para retornar a media das notas de 4 alunos. utilize estrutura de repetição em duplas \n",
    "\n",
    "'ana',70,87,93\n",
    "'laura',70,87,93\n",
    "'mark',80,87,98\n",
    "'camila',69,98,79\n",
    "\n",
    "'''\n",
    "\n",
    "lista_alunos = [('ana',70,87,93),\n",
    "                ('laura',70,87,93),\n",
    "                ('mark',80,87,98),\n",
    "                ('camila',69,98,79)]\n",
    "\n",
    "for i in lista_alunos:\n",
    "    nome,nota1,nota2,nota3 = i\n",
    "    print(f'Aluno: {nome}, Média: {(nota1+nota2+nota3)/3}')\n"
   ]
  },
  {
   "cell_type": "code",
   "execution_count": 40,
   "metadata": {},
   "outputs": [
    {
     "name": "stdout",
     "output_type": "stream",
     "text": [
      "Despesa: alimentação, Gasto: 280\n",
      "Despesa: transporte, Gasto: 180\n",
      "Despesa: entretenimento, Gasto: 530\n",
      "Despesa: viagens, Gasto: 63000\n",
      "Gasto total: 63990\n"
     ]
    }
   ],
   "source": [
    "''' Crie uma estrutura para retornar gastos com alimentação, transporte, entretenimento, viagens\n",
    "\n",
    "alimentação, 150, 60, 70\n",
    "transporte, 60, 70, 50\n",
    "entretenimento, 200, 150, 180\n",
    "viagens, 8000, 15000, 40000\n",
    "\n",
    "'''\n",
    "\n",
    "gasto_total = 0\n",
    "\n",
    "lista_despesas = [('alimentação', 150, 60, 70),\n",
    "                ('transporte', 60, 70, 50),\n",
    "                ('entretenimento', 200, 150, 180),\n",
    "                ('viagens', 8000, 15000, 40000)]\n",
    "\n",
    "for i in lista_despesas:\n",
    "    nome,valor1,valor2,valor3 = i\n",
    "    gasto_total += (valor1 + valor2 + valor3)\n",
    "    \n",
    "    print(f'Despesa: {nome}, Gasto: {valor1+valor2+valor3}')\n",
    "\n",
    "print(f'Gasto total: {gasto_total}')"
   ]
  },
  {
   "cell_type": "code",
   "execution_count": 42,
   "metadata": {},
   "outputs": [
    {
     "name": "stdout",
     "output_type": "stream",
     "text": [
      "Usuário: francisco,Soma: 40, Media: 10.0\n",
      "Usuário: paulo,Soma: 30, Media: 7.5\n",
      "Usuário: pedro,Soma: 28, Media: 7.0\n",
      "Usuário: joão,Soma: 27, Media: 6.75\n"
     ]
    }
   ],
   "source": [
    "''' Crie uma estrutura para mostrar a soma e a média das viagens de passageiros de uber'''\n",
    "\n",
    "\n",
    "\n",
    "lista_passageiros = [\n",
    "    ('francisco',10,15,12,3),\n",
    "    ('paulo',15,5,8,2),\n",
    "    ('pedro',5,9,7,7),\n",
    "    ('joão',2,3,9,13)\n",
    "]\n",
    "\n",
    "for i in lista_passageiros:\n",
    "    nome,valor1,valor2,valor3,valor4 = i\n",
    "    \n",
    "    print(f'Usuário: {nome},Soma: {(valor1+valor2+valor3+valor4)}, Media: {(valor1+valor2+valor3+valor4)/4}')"
   ]
  },
  {
   "cell_type": "code",
   "execution_count": 1,
   "metadata": {},
   "outputs": [],
   "source": [
    "import sympy as sy"
   ]
  },
  {
   "cell_type": "code",
   "execution_count": 8,
   "metadata": {},
   "outputs": [],
   "source": [
    "\n"
   ]
  }
 ],
 "metadata": {
  "kernelspec": {
   "display_name": "base",
   "language": "python",
   "name": "python3"
  },
  "language_info": {
   "codemirror_mode": {
    "name": "ipython",
    "version": 3
   },
   "file_extension": ".py",
   "mimetype": "text/x-python",
   "name": "python",
   "nbconvert_exporter": "python",
   "pygments_lexer": "ipython3",
   "version": "3.11.7"
  }
 },
 "nbformat": 4,
 "nbformat_minor": 2
}
