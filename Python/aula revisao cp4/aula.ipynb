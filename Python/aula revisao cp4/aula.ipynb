{
 "cells": [
  {
   "cell_type": "code",
   "execution_count": 29,
   "metadata": {},
   "outputs": [
    {
     "name": "stdout",
     "output_type": "stream",
     "text": [
      "tupla (4, 5, 6, 7)\n",
      "lista [4, 5, 6, 7]\n"
     ]
    }
   ],
   "source": [
    "tupla = (4,5,6,7)\n",
    "lista = [4,5,6,7]\n",
    "\n",
    "print('tupla',tupla)\n",
    "print('lista',lista)"
   ]
  },
  {
   "cell_type": "code",
   "execution_count": 30,
   "metadata": {},
   "outputs": [],
   "source": [
    "import pandas as pd\n",
    "import numpy as np"
   ]
  },
  {
   "cell_type": "code",
   "execution_count": 31,
   "metadata": {},
   "outputs": [
    {
     "name": "stdout",
     "output_type": "stream",
     "text": [
      "4\n",
      "5\n",
      "6\n",
      "7\n",
      "4\n",
      "5\n",
      "6\n",
      "7\n"
     ]
    }
   ],
   "source": [
    "for i in lista:\n",
    "    print(i)\n",
    "    \n",
    "for j in tupla:\n",
    "    print(j)"
   ]
  },
  {
   "cell_type": "code",
   "execution_count": 32,
   "metadata": {},
   "outputs": [],
   "source": [
    "# TUPLE INSERT FUNCTION\n",
    "def tupleInsert(tupleToModify,index, info):\n",
    "    tuplalista = list(tupleToModify)\n",
    "    tuplalista.insert(index,info)\n",
    "    \n",
    "    \n",
    "    return tuple(tuplalista)\n"
   ]
  },
  {
   "cell_type": "code",
   "execution_count": 33,
   "metadata": {},
   "outputs": [
    {
     "name": "stdout",
     "output_type": "stream",
     "text": [
      "1\n",
      "2\n",
      "3\n"
     ]
    }
   ],
   "source": [
    "tupla = tuple(['fiap', [1,2,3], 'python', 'java', 'true'])\n",
    "for i in tupla[1]:\n",
    "    print(i)\n",
    "\n"
   ]
  },
  {
   "cell_type": "code",
   "execution_count": 34,
   "metadata": {},
   "outputs": [
    {
     "data": {
      "text/plain": [
       "('fiap',\n",
       " [1, 2, 3],\n",
       " 'python',\n",
       " 'java',\n",
       " 'true',\n",
       " 'usp',\n",
       " [4, 5, 6],\n",
       " 'r',\n",
       " 'matlab',\n",
       " 'False')"
      ]
     },
     "execution_count": 34,
     "metadata": {},
     "output_type": "execute_result"
    }
   ],
   "source": [
    "tupla1 = tuple(tupla)\n",
    "tupla1\n",
    "tupla2 = tuple(['usp',[4,5,6],'r','matlab','False'])\n",
    "\n",
    "tuplaconcat = tupla1 + tupla2\n",
    "tuplaconcat"
   ]
  },
  {
   "cell_type": "code",
   "execution_count": 35,
   "metadata": {},
   "outputs": [
    {
     "name": "stdout",
     "output_type": "stream",
     "text": [
      "20\n",
      "200\n",
      "2000\n",
      "740.0\n"
     ]
    }
   ],
   "source": [
    "tupla = (10,100,1000)\n",
    "for i in tupla:\n",
    "    novaTupla = i*2\n",
    "    print(novaTupla)\n",
    "\n",
    "a,b,c = tupla\n",
    "\n",
    "print(((a+b+c)*2)/3)"
   ]
  },
  {
   "cell_type": "code",
   "execution_count": 36,
   "metadata": {},
   "outputs": [
    {
     "name": "stdout",
     "output_type": "stream",
     "text": [
      "x=1,y=2,z=3\n",
      "x=4,y=5,z=6\n",
      "x=7,y=8,z=9\n"
     ]
    }
   ],
   "source": [
    "sequencia = ([1,2,3],[4,5,6],[7,8,9])\n",
    "\n",
    "for x,y,z in sequencia:\n",
    "    print(f'x={x},y={y},z={z}')"
   ]
  },
  {
   "cell_type": "code",
   "execution_count": 72,
   "metadata": {},
   "outputs": [],
   "source": [
    "\"\"\"crie uma tupla com as informações abaixo\"\"\"\n",
    "\n",
    "tupla_times = (['fortaleza',14,3],\n",
    "               ['botafogo',14,5],\n",
    "               ['palmeiras',13,6],\n",
    "               ['flamengo',13,5],\n",
    "               ['sao paulo',12,5],\n",
    "               ['fluminense',6,6],\n",
    "               ['vitória',6,4],\n",
    "               ['corinthians',4,10],\n",
    "               ['cuiabá',4,6],\n",
    "               ['atletico-go',4,6])\n",
    "\n"
   ]
  },
  {
   "cell_type": "code",
   "execution_count": 42,
   "metadata": {},
   "outputs": [
    {
     "name": "stdout",
     "output_type": "stream",
     "text": [
      "vitorias: 90, derrotas: 56\n"
     ]
    }
   ],
   "source": [
    "'''qual o total de vitórias e derrotas considerando os 10 times?'''\n",
    "derrotas = 0\n",
    "vitorias = 0\n",
    "for i in tupla_times:\n",
    "    vitorias += i[1]\n",
    "    derrotas += i[2]\n",
    "    \n",
    "print(f'vitorias: {vitorias}, derrotas: {derrotas}')"
   ]
  },
  {
   "cell_type": "code",
   "execution_count": 43,
   "metadata": {},
   "outputs": [
    {
     "name": "stdout",
     "output_type": "stream",
     "text": [
      "Média de vitórias: 9.0\n",
      "Média de derrotas: 5.6\n"
     ]
    }
   ],
   "source": [
    "'''crie um algoritmo para mostrar a média de vitórias e derrotas'''\n",
    "\n",
    "derrotas = 0\n",
    "\n",
    "vitorias = 0\n",
    "\n",
    "for i in tupla_times:\n",
    "    vitorias += i[1]\n",
    "    derrotas += i[2]\n",
    "print(f\"Média de vitórias: {vitorias / len(tupla_times)}\")\n",
    "print(f\"Média de derrotas: {derrotas / len(tupla_times)}\")"
   ]
  },
  {
   "cell_type": "code",
   "execution_count": 93,
   "metadata": {},
   "outputs": [
    {
     "name": "stdout",
     "output_type": "stream",
     "text": [
      "Time mais próximo da média: \n",
      "Time menos próximo da média: sao paulo\n"
     ]
    }
   ],
   "source": [
    "'''mostre quem está mais perto e mais longe da média'''\n",
    "lista_media_vitoria = []\n",
    "for i in tupla_times:\n",
    "    a,b,c = i\n",
    "    lista_media_vitoria.append(int((b+c)/2))\n",
    "\n",
    "    \n",
    "menor_dif = float('inf')\n",
    "maior_dif = float('inf')\n",
    "\n",
    "time_mais_proximo = ''\n",
    "time_menos_proximo = ''\n",
    "\n",
    "for time in tupla_times:\n",
    "    nome_time=time[0]\n",
    "    vitorias=time[1]\n",
    "    \n",
    "    \n",
    "    diferenca = abs(vitorias - lista_media_vitoria[1])\n",
    "    \n",
    "    if diferenca > menor_dif:\n",
    "        menor_dif = diferenca\n",
    "        time_mais_proximo = nome_time\n",
    "        \n",
    "    if diferenca < maior_dif:\n",
    "        maior_dif = diferenca\n",
    "        time_menos_proximo = nome_time\n",
    "\n",
    "print(f\"Time mais próximo da média: {time_mais_proximo}\")\n",
    "print(f\"Time menos próximo da média: {time_menos_proximo}\")\n"
   ]
  },
  {
   "cell_type": "code",
   "execution_count": 126,
   "metadata": {},
   "outputs": [],
   "source": [
    "'''Análise o desempenho dos vídeos do seu canal no Instagram com base nos likes e dislikes. Cada vídeo é representado por uma tupla contendo o título, número de likes e dislikes. O objetivo é calcular a taxa de aprovação (likes / (likes + dislikes)) para cada vídeo e encontrar os vídeos com a maior e a menor taxa de aprovação.\n",
    "\n",
    "visualização de dados, 620, 30\n",
    "python básico, 510, 20\n",
    "análise estatística, 250, 70\n",
    "deep learning, 450, 50\n",
    "\n",
    "a. Crie uma tupla com os dados apresentados.'''\n",
    "\n",
    "tuplaVideos = (('visualização de dados', 620, 30),\n",
    "               ('python básico', 510, 20),\n",
    "               ('análise estatística', 250, 70),\n",
    "               ('deep learning', 450, 50))\n"
   ]
  },
  {
   "cell_type": "code",
   "execution_count": 127,
   "metadata": {},
   "outputs": [
    {
     "name": "stdout",
     "output_type": "stream",
     "text": [
      "[('visualização de dados:', 'likes: 620', 'dislikes: 30', 0.9538461538461539), ('python básico:', 'likes: 510', 'dislikes: 20', 0.9622641509433962), ('análise estatística:', 'likes: 250', 'dislikes: 70', 0.78125), ('deep learning:', 'likes: 450', 'dislikes: 50', 0.9)]\n"
     ]
    }
   ],
   "source": [
    "\"\"\"Análise de Desempenho de Vídeos com Base em Likes e Dislikes. (1,0)\n",
    "\n",
    "Análise o desempenho dos vídeos do seu canal no Instagram com base nos likes e dislikes. Cada vídeo é representado por uma tupla \n",
    "contendo o título, número de likes e dislikes. \n",
    "O objetivo é calcular a taxa de aprovação (likes / (likes + dislikes)) para cada vídeo e encontrar \n",
    "os vídeos com a maior e a menor taxa de aprovação.\n",
    "\n",
    "visualização de dados, 620, 30\n",
    "python básico, 510, 20\n",
    "análise estatística, 250, 70\n",
    "deep learning, 450, 50\n",
    "\n",
    "b. Utilize uma estrutura de repetição para retornar um apêndice chamado taxas_aprovacao com a taxa de aprovação de cada vídeo.\n",
    "(1 Ponto)\n",
    "\n",
    "\"\"\"\n",
    "\n",
    "taxas_aprovacao = []\n",
    "for video in tuplaVideos:\n",
    "    titulo = video[0]\n",
    "    likes = video[1]\n",
    "    dislikes = video[2]\n",
    "    taxa = likes / (likes + dislikes)\n",
    "    taxas_aprovacao.append((f'{titulo}:',f'likes: {likes}',f'dislikes: {dislikes}',float(taxa)))\n",
    "\n",
    "print(taxas_aprovacao)\n",
    "    \n",
    "    \n",
    "    "
   ]
  },
  {
   "cell_type": "code",
   "execution_count": 129,
   "metadata": {},
   "outputs": [
    {
     "name": "stdout",
     "output_type": "stream",
     "text": [
      "maior taxa: python básico: = 0.9622641509433962, menor taxa:análise estatística: = 0.78125\n"
     ]
    }
   ],
   "source": [
    "\"\"\" 3.Análise de Desempenho de Vídeos com Base em Likes e Dislikes. (1,0)\n",
    "\n",
    "Análise o desempenho dos vídeos do seu canal no Instagram com base nos likes e dislikes. \n",
    "Cada vídeo é representado por uma tupla contendo o título, número de likes e dislikes. \n",
    "O objetivo é calcular a taxa de aprovação (likes / (likes + dislikes)) \n",
    "para cada vídeo e encontrar os vídeos com a maior e a menor taxa de aprovação.\n",
    "\n",
    "visualização de dados, 620, 30\n",
    "python básico, 510, 20\n",
    "análise estatística, 250, 70\n",
    "deep learning, 450, 50\n",
    "\n",
    "c. Mostre o vídeo com maior e a menor taxa de aprovação.\n",
    "(1 Ponto)\n",
    "\n",
    " \"\"\"\n",
    "\n",
    "taxa_inicial = taxas_aprovacao[0]\n",
    "\n",
    "maior_taxa = 0\n",
    "video_maior_taxa=''\n",
    "menor_taxa = taxa_inicial[3]\n",
    "video_menor_taxa=''\n",
    "\n",
    "for video in taxas_aprovacao:\n",
    "    if video[3] > maior_taxa:\n",
    "        video_maior_taxa = video[0]\n",
    "        maior_taxa = video[3]\n",
    "    elif video[3] < menor_taxa:\n",
    "        video_menor_taxa = video[0]\n",
    "        menor_taxa = video[3]\n",
    "    \n",
    "print(f\"maior taxa: {video_maior_taxa} = {maior_taxa}, menor taxa:{video_menor_taxa} = {menor_taxa}\")\n"
   ]
  },
  {
   "cell_type": "code",
   "execution_count": 133,
   "metadata": {},
   "outputs": [
    {
     "data": {
      "text/plain": [
       "(('Análise de componentes principais', 100, 20),\n",
       " ('ChatGPT', 800, 20),\n",
       " ('Rede neural MLP', 550, 15),\n",
       " ('visualização de dados', 620, 30),\n",
       " ('python básico', 510, 20),\n",
       " ('análise estatística', 250, 70),\n",
       " ('deep learning', 450, 50))"
      ]
     },
     "execution_count": 133,
     "metadata": {},
     "output_type": "execute_result"
    }
   ],
   "source": [
    "'''Este exercício utilizará as informações da tupla do exercício 1. (1,5)\n",
    "\n",
    "a. Mostre como concatenar os dados apresentados no exercício 1 com os seguintes dados:\n",
    "\n",
    "videos1 = (\n",
    "    (\"Análise de componentes principais\", 100, 20),\n",
    "    (\"ChatGPT\", 800, 20),\n",
    "    (\"Rede neural MLP\", 550, 15),\n",
    ")\n",
    "\n",
    "'''\n",
    "\n",
    "\n",
    "videos1 = (\n",
    "    (\"Análise de componentes principais\", 100, 20),\n",
    "    (\"ChatGPT\", 800, 20),\n",
    "    (\"Rede neural MLP\", 550, 15),\n",
    ")\n",
    "\n",
    "tuple5 = tuple(videos1)\n",
    "tuple6 = tuplaVideos\n",
    "\n",
    "tuplaconcatenada = tuple5 + tuple6\n",
    "tuplaconcatenada"
   ]
  },
  {
   "cell_type": "code",
   "execution_count": 148,
   "metadata": {},
   "outputs": [
    {
     "data": {
      "text/plain": [
       "(['Análise de componentes principais', 150, 25],\n",
       " ['ChatGPT', 800, 20],\n",
       " ['Rede neural MLP', 550, 15],\n",
       " ['visualização de dados', 500, 50],\n",
       " ['python básico', 510, 20],\n",
       " ['análise estatística', 250, 70],\n",
       " ['deep learning', 450, 50])"
      ]
     },
     "execution_count": 148,
     "metadata": {},
     "output_type": "execute_result"
    }
   ],
   "source": [
    "'''.Este exercício utilizará as informações da tupla do exercício 1. (0,5)\n",
    "\n",
    "b. Mostre como alterar os dados de análise de componentes principais para 150, 25 e \n",
    "visualização de dados para 500, 50. Utilize a função list para fazer estas alterações.\n",
    "(0.5 Pontos)\n",
    "'''\n",
    "\n",
    "\n",
    "videos1 = (\n",
    "    (\"Análise de componentes principais\", 100, 20),\n",
    "    (\"ChatGPT\", 800, 20),\n",
    "    (\"Rede neural MLP\", 550, 15),\n",
    ")\n",
    "\n",
    "tuple5 = tuple(videos1)\n",
    "tuple6 = tuplaVideos\n",
    "\n",
    "listaDeTuplas = []\n",
    "tuplaconcatenada = tuple5 + tuple6\n",
    "for i in tuplaconcatenada:\n",
    "    i = list(i)\n",
    "    listaDeTuplas.append(i)\n",
    "    \n",
    "tuplaDeListas = tuple(listaDeTuplas)\n",
    "\n",
    "tuplaDeListas[0][1] = 150\n",
    "tuplaDeListas[0][2] = 25\n",
    "tuplaDeListas[3][1] = 500\n",
    "tuplaDeListas[3][2] = 50\n",
    "\n",
    "tuplaDeListas\n",
    "    \n",
    "    \n",
    "\n"
   ]
  },
  {
   "cell_type": "code",
   "execution_count": 151,
   "metadata": {},
   "outputs": [
    {
     "name": "stdout",
     "output_type": "stream",
     "text": [
      "likes: 1830\n",
      "dislikes:  170\n"
     ]
    }
   ],
   "source": [
    "\"\"\"Este exercício utilizará as informações da tupla do exercício 1. (0,5)\n",
    "\n",
    "c. Mostre qual o total de likes e dislikes.\"\"\"\n",
    "likes = 0\n",
    "dislikes = 0\n",
    "for tupla in tuplaVideos:\n",
    "    likes += tupla[1]\n",
    "    dislikes += tupla[2]\n",
    "    \n",
    "print('likes:', likes)\n",
    "print('dislikes: ', dislikes)\n"
   ]
  }
 ],
 "metadata": {
  "kernelspec": {
   "display_name": "base",
   "language": "python",
   "name": "python3"
  },
  "language_info": {
   "codemirror_mode": {
    "name": "ipython",
    "version": 3
   },
   "file_extension": ".py",
   "mimetype": "text/x-python",
   "name": "python",
   "nbconvert_exporter": "python",
   "pygments_lexer": "ipython3",
   "version": "3.11.7"
  }
 },
 "nbformat": 4,
 "nbformat_minor": 2
}
