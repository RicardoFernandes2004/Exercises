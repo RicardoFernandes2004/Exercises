{
 "cells": [
  {
   "cell_type": "code",
   "execution_count": 11,
   "metadata": {},
   "outputs": [
    {
     "data": {
      "text/html": [
       "<div>\n",
       "<style scoped>\n",
       "    .dataframe tbody tr th:only-of-type {\n",
       "        vertical-align: middle;\n",
       "    }\n",
       "\n",
       "    .dataframe tbody tr th {\n",
       "        vertical-align: top;\n",
       "    }\n",
       "\n",
       "    .dataframe thead th {\n",
       "        text-align: right;\n",
       "    }\n",
       "</style>\n",
       "<table border=\"1\" class=\"dataframe\">\n",
       "  <thead>\n",
       "    <tr style=\"text-align: right;\">\n",
       "      <th></th>\n",
       "      <th>lista1</th>\n",
       "      <th>lista2</th>\n",
       "      <th>lista3</th>\n",
       "    </tr>\n",
       "  </thead>\n",
       "  <tbody>\n",
       "    <tr>\n",
       "      <th>0</th>\n",
       "      <td>10</td>\n",
       "      <td>a</td>\n",
       "      <td>fiap</td>\n",
       "    </tr>\n",
       "    <tr>\n",
       "      <th>1</th>\n",
       "      <td>20</td>\n",
       "      <td>b</td>\n",
       "      <td>python</td>\n",
       "    </tr>\n",
       "    <tr>\n",
       "      <th>2</th>\n",
       "      <td>30</td>\n",
       "      <td>c</td>\n",
       "      <td>usp</td>\n",
       "    </tr>\n",
       "    <tr>\n",
       "      <th>3</th>\n",
       "      <td>40</td>\n",
       "      <td>d</td>\n",
       "      <td>software</td>\n",
       "    </tr>\n",
       "    <tr>\n",
       "      <th>4</th>\n",
       "      <td>50</td>\n",
       "      <td>e</td>\n",
       "      <td>engenharia</td>\n",
       "    </tr>\n",
       "  </tbody>\n",
       "</table>\n",
       "</div>"
      ],
      "text/plain": [
       "   lista1 lista2      lista3\n",
       "0      10      a        fiap\n",
       "1      20      b      python\n",
       "2      30      c         usp\n",
       "3      40      d    software\n",
       "4      50      e  engenharia"
      ]
     },
     "execution_count": 11,
     "metadata": {},
     "output_type": "execute_result"
    }
   ],
   "source": [
    "# dictionaries\n",
    "import pandas as pd\n",
    "\n",
    "\n",
    "data = {\n",
    "    'lista1':[10,20,30,40,50],\n",
    "    'lista2':['a','b','c','d','e'],\n",
    "    'lista3':['fiap','python','usp','software','engenharia']}\n",
    "\n",
    "df = pd.DataFrame(data)\n",
    "df"
   ]
  },
  {
   "cell_type": "code",
   "execution_count": 17,
   "metadata": {},
   "outputs": [
    {
     "name": "stdout",
     "output_type": "stream",
     "text": [
      "0\n",
      "1\n",
      "2\n",
      "3\n",
      "4\n",
      "5\n",
      "6\n",
      "7\n",
      "8\n",
      "9\n",
      "10\n"
     ]
    }
   ],
   "source": [
    "# 1. crie um contador para contar até o numero n definido pelo usuário\n",
    "\n",
    "def contador(n):\n",
    "    for i in range(n):\n",
    "        print(i)\n",
    "        \n",
    "contador(int(input('Quantos números quer contar?'))+1)"
   ]
  },
  {
   "cell_type": "code",
   "execution_count": 15,
   "metadata": {},
   "outputs": [
    {
     "name": "stdout",
     "output_type": "stream",
     "text": [
      "cor encontrada: vermelho\n",
      "cor encontrada: verde\n",
      "cor encontrada: azul\n"
     ]
    }
   ],
   "source": [
    "# 2. crie uma função para verificar as cores de uma lista usando uma função\n",
    "\n",
    "lista_cores = ['vermelho','verde','azul']\n",
    "\n",
    "def verificador(lista):\n",
    "    for i in range(len(lista)):\n",
    "        if lista[i] == 'vermelho' or lista[i] == 'verde' or lista[i] == 'azul':\n",
    "            print(f'cor encontrada: {lista[i]}')\n",
    "            \n",
    "verificador(lista_cores)"
   ]
  },
  {
   "cell_type": "code",
   "execution_count": 37,
   "metadata": {},
   "outputs": [
    {
     "name": "stdout",
     "output_type": "stream",
     "text": [
      "O valor médio dos 3 meses é: 10.0, valores individuais foram[10.0, 10.0, 10.0]\n"
     ]
    }
   ],
   "source": [
    "# 3. crie uma função que simule uma calculadora de despesas. retorne o valor médio dos 3 meses\n",
    "\n",
    "lista_mes = ['janeiro','fevereiro','março']\n",
    "\n",
    "def calculo_despesa(lista_mes):\n",
    "    lista_despesa = []\n",
    "    for i in lista_mes:        \n",
    "        lista_despesa.append(float(input(f'quanto vc gastou no mes de {i}')))\n",
    "    print(f'O valor médio dos 3 meses é: {sum(lista_despesa)/3}, valores individuais foram {lista_despesa}')\n",
    "\n",
    "calculo_despesa(lista_mes)\n",
    "        \n"
   ]
  },
  {
   "cell_type": "code",
   "execution_count": 39,
   "metadata": {},
   "outputs": [
    {
     "name": "stdout",
     "output_type": "stream",
     "text": [
      "Produto calças encontrado! Estoque atual: 15\n"
     ]
    }
   ],
   "source": [
    "# 4. crie uma função que simule um controle de estoque\n",
    "\n",
    "def estoque(solicitacao):\n",
    "    produtos = {'camisetas':20,\n",
    "            'calças':15,\n",
    "            'sapatos':10\n",
    "            }\n",
    "    if solicitacao in produtos:\n",
    "        print(f'Produto {solicitacao} encontrado! Estoque atual: {produtos[solicitacao]}')\n",
    "    else:\n",
    "        print('Produto não encontrado')\n",
    "        \n",
    "estoque(input('Qual produto deseja consultar?'))"
   ]
  },
  {
   "cell_type": "code",
   "execution_count": 43,
   "metadata": {},
   "outputs": [
    {
     "name": "stdout",
     "output_type": "stream",
     "text": [
      "Temperatura mínima: -2442.0, máxima: 23993.0, média: 2679.1111111111113\n"
     ]
    }
   ],
   "source": [
    "# 5. crie uma funçãom que simule o monitoramento de temperatura. Crie uma estrutura que fique solicitando valores de temperatura para o usuário,\n",
    "# até o mesmo digitar -999 para sair da estrutura, após isso, desenvolva o valor mínimo, máximo e médio dos valores digitados.\n",
    "\n",
    "def temp():\n",
    "    temp = []\n",
    "    while True:\n",
    "        valor = float(input('Digite a temperatura ou -999 para sair'))\n",
    "        if valor == -999:\n",
    "            break\n",
    "        temp.append(valor)\n",
    "    print(f'Temperatura mínima: {min(temp)}, máxima: {max(temp)}, média: {sum(temp)/len(temp)}')\n",
    "    \n",
    "temp()"
   ]
  }
 ],
 "metadata": {
  "kernelspec": {
   "display_name": "Python 3",
   "language": "python",
   "name": "python3"
  },
  "language_info": {
   "codemirror_mode": {
    "name": "ipython",
    "version": 3
   },
   "file_extension": ".py",
   "mimetype": "text/x-python",
   "name": "python",
   "nbconvert_exporter": "python",
   "pygments_lexer": "ipython3",
   "version": "3.12.0"
  }
 },
 "nbformat": 4,
 "nbformat_minor": 2
}
