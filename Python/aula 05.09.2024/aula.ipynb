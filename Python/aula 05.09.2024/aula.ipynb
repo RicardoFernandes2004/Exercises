{
 "cells": [
  {
   "cell_type": "code",
   "execution_count": 4,
   "metadata": {},
   "outputs": [
    {
     "name": "stdout",
     "output_type": "stream",
     "text": [
      "2.5\n",
      "0.8333333333333334\n"
     ]
    }
   ],
   "source": [
    "def mediaEntre3Numeros(x,y,z) -> int:\n",
    "    return ((x+y+z),(x+y+z)/3)\n",
    "\n",
    "soma, media = mediaEntre3Numeros(1,0.5,1)\n",
    "\n",
    "print(soma)\n",
    "print(media)"
   ]
  },
  {
   "cell_type": "code",
   "execution_count": 5,
   "metadata": {},
   "outputs": [
    {
     "name": "stdout",
     "output_type": "stream",
     "text": [
      "12 8 20 5.0\n"
     ]
    }
   ],
   "source": [
    "'''Crie uma função que retorne as 4 operações matematicas basicas entre 2 valores'''\n",
    "\n",
    "def matematicaBasica(num1,num2):\n",
    "    soma = num1+num2\n",
    "    subtracao = num1-num2\n",
    "    multiplicacao = num1*num2\n",
    "    divisao = num1/num2\n",
    "    return soma, subtracao, multiplicacao, divisao\n",
    "\n",
    "soma, subtracao, multiplicacao, divisao = matematicaBasica(10,2)\n",
    "print(soma,subtracao,multiplicacao,divisao)"
   ]
  },
  {
   "cell_type": "code",
   "execution_count": 6,
   "metadata": {},
   "outputs": [
    {
     "name": "stdout",
     "output_type": "stream",
     "text": [
      "150 30.0\n"
     ]
    }
   ],
   "source": [
    "'''Crie uma função que retorne a soma e a media de uma lista com 5 valores\n",
    "\n",
    "'''\n",
    "\n",
    "lista = [10,20,30,40,50]\n",
    "\n",
    "def somaMedia(lista):\n",
    "    soma = sum(lista)\n",
    "    media = sum(lista)/len(lista)\n",
    "    return soma, media\n",
    "\n",
    "soma, media = somaMedia(lista)\n",
    "print(soma,media)"
   ]
  },
  {
   "cell_type": "code",
   "execution_count": 9,
   "metadata": {},
   "outputs": [
    {
     "name": "stdout",
     "output_type": "stream",
     "text": [
      "(3.0, 55.0, 9.75, 22.583333333333332)\n"
     ]
    }
   ],
   "source": [
    "listA1 = [1,2,3,4,5]\n",
    "listA2 = [10,20,30,40,50,60,70,80,90,100]\n",
    "listA3 = [1,2,3,4,5,6,7,8,9,10,11,12,14,16,28,20]\n",
    "\n",
    "def mediaListas(lista1:list,lista2:list,lista3:list) -> int:\n",
    "    media1 = sum(lista1)/len(lista1)\n",
    "    media2 = sum(lista2)/len(lista2)\n",
    "    media3 = sum(lista3)/len(lista3)\n",
    "        \n",
    "    mediaTotal = (media1+media2+media3)/3\n",
    "\n",
    "    return media1, media2, media3, mediaTotal\n",
    "        \n",
    "    \n",
    "print(mediaListas(listA1, listA2, listA3))"
   ]
  }
 ],
 "metadata": {
  "kernelspec": {
   "display_name": "base",
   "language": "python",
   "name": "python3"
  },
  "language_info": {
   "codemirror_mode": {
    "name": "ipython",
    "version": 3
   },
   "file_extension": ".py",
   "mimetype": "text/x-python",
   "name": "python",
   "nbconvert_exporter": "python",
   "pygments_lexer": "ipython3",
   "version": "3.11.7"
  }
 },
 "nbformat": 4,
 "nbformat_minor": 2
}
