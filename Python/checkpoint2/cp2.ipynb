{
 "cells": [
  {
   "cell_type": "code",
   "execution_count": null,
   "metadata": {},
   "outputs": [],
   "source": [
    "eg = [100,120,302,2043,23,2424,3421,4034]\n",
    "\n",
    "for i in eg:\n",
    "    print(i)"
   ]
  },
  {
   "cell_type": "code",
   "execution_count": null,
   "metadata": {},
   "outputs": [],
   "source": [
    "for i in range(1,5):\n",
    "    print(i)"
   ]
  },
  {
   "cell_type": "code",
   "execution_count": null,
   "metadata": {},
   "outputs": [],
   "source": [
    "ximira = ['wif','asfij','ikdv','ifio']\n",
    "for i in ximira:\n",
    "    print(i)\n",
    "    if i == 'asfij':\n",
    "        continue"
   ]
  },
  {
   "cell_type": "code",
   "execution_count": null,
   "metadata": {},
   "outputs": [],
   "source": [
    "lista = [10,23,352,5262,422,24,134,24]\n",
    "\n",
    "soma = 0\n",
    "lista_soma = []\n",
    "\n",
    "for i in lista:\n",
    "    soma += i\n",
    "    lista_soma.append(soma)\n",
    "print(lista_soma)\n"
   ]
  },
  {
   "cell_type": "code",
   "execution_count": null,
   "metadata": {},
   "outputs": [],
   "source": [
    "# Retire o nome oxford da lista nome e crie uma nova lista para passar outros nomes, lista_nome = ['fiap','usp','unicamp','oxford']\n",
    "\n",
    "lista_nome = ['fiap','usp','unicamp','oxford']\n",
    "lista_nova_nomes = []\n",
    "for i in lista_nome:\n",
    "    if i == 'oxford':\n",
    "        continue\n",
    "    lista_nova_nomes.append(i)\n",
    "\n",
    "print(lista_nova_nomes)"
   ]
  },
  {
   "cell_type": "code",
   "execution_count": null,
   "metadata": {},
   "outputs": [],
   "source": [
    "# Some os valores das duas listas abaixo e em seguida insira o resultado em uma nova lista\n",
    "\n",
    "lista1 = [10, 100, 90]\n",
    "lista2 = [5,10,10]\n",
    "\n",
    "lista_nova = []\n",
    "\n",
    "for i in range(len(lista1)):\n",
    "    lista_nova.append(lista1[i]+lista2[i])\n",
    "\n",
    "print(lista_nova)\n"
   ]
  },
  {
   "cell_type": "code",
   "execution_count": null,
   "metadata": {},
   "outputs": [],
   "source": [
    "# 4. Crie um programa para solicitar três nomes, e em seguida, deixe estes nomes em uma lista chamada lista nome\n",
    "lista_nomes = []\n",
    "\n",
    "for i in range(3):\n",
    "    lista_nomes.append(input('Insira um nome: '))\n",
    "    \n",
    "print(lista_nomes)"
   ]
  },
  {
   "cell_type": "code",
   "execution_count": null,
   "metadata": {},
   "outputs": [],
   "source": [
    "# 5. Crie um programa solicitando cep e endereço para 3 pessoas, em seguida crie duas listas, uma para lista_cep e outra para lista_endereço\n",
    "lista_cep = []\n",
    "lista_end = []\n",
    "for i in range(1,4):\n",
    "    \n",
    "    lista_cep.append(input('Insira seu cep: '))\n",
    "    \n",
    "    lista_end.append(input('Insira seu endereço: '))\n",
    "    \n",
    "print(lista_cep)\n",
    "print(lista_end)\n"
   ]
  },
  {
   "cell_type": "markdown",
   "metadata": {},
   "source": [
    "While"
   ]
  },
  {
   "cell_type": "code",
   "execution_count": null,
   "metadata": {},
   "outputs": [],
   "source": [
    "cont = 5\n",
    "\n",
    "while cont > 0:\n",
    "    print(cont)\n",
    "    cont -= 1"
   ]
  },
  {
   "cell_type": "code",
   "execution_count": null,
   "metadata": {},
   "outputs": [],
   "source": [
    "# acumulador de valores usando while\n",
    "\n",
    "total = 0\n",
    "\n",
    "while True:\n",
    "\n",
    "    numero = int(input(\"Digite 0 para sair: \"))\n",
    "    if numero == 0:\n",
    "        break\n",
    "    total += numero\n",
    "    \n",
    "print(total)"
   ]
  },
  {
   "cell_type": "code",
   "execution_count": null,
   "metadata": {},
   "outputs": [],
   "source": [
    "\n",
    "total = 0\n",
    "\n",
    "while i < 3:\n",
    "\n",
    "    numero = int(input(\"Digite 0 para sair: \"))\n",
    "    if numero == 0:\n",
    "        break\n",
    "    total += numero\n",
    "    \n",
    "    i+=1\n",
    "    \n",
    "print(total)"
   ]
  },
  {
   "cell_type": "code",
   "execution_count": null,
   "metadata": {},
   "outputs": [],
   "source": [
    "# 1. crie uma estrutura para solicitar nome e rg de 5 usuários, depois envie essas informações para duas listas\n",
    "\n",
    "nome = []\n",
    "rg = []\n",
    "limitador = 0\n",
    "\n",
    "while limitador < 3:\n",
    "    nome.append(input('Digite seu nome: '))\n",
    "    rg.append(int(input('Digite seu RG: ')))\n",
    "    limitador += 1\n",
    "\n",
    "print(nome)\n",
    "print(rg)"
   ]
  },
  {
   "cell_type": "code",
   "execution_count": null,
   "metadata": {},
   "outputs": [],
   "source": [
    "# 2. crie um programa a qual solicite um numero para o usuário e simule uma calculadora para multiplicar números de 1 a 10 pelo número escolhido \n",
    "# pelo usuário\n",
    "\n",
    "mult = int(input('digite um número: '))\n",
    "i = 0\n",
    "while i <= 10:\n",
    "    print(f'{mult} x {i} = {mult * i}')\n",
    "    i += 1"
   ]
  },
  {
   "cell_type": "code",
   "execution_count": null,
   "metadata": {},
   "outputs": [],
   "source": [
    "# 3. Crie uma estrutura para validação de entrada de usuário. if nome usuario < 3, escreva o nome deve ter pelo menos 3 caracteres, \n",
    "# caso contrario, escreva usuário válido\n",
    "\n",
    "nome = str(input('Insira seu nome: '))\n",
    "\n",
    "if len(nome) < 3:\n",
    "    print('Nome deve ter pelo menos 3 caracteres')\n",
    "else:\n",
    "    print('Usuário válido')"
   ]
  },
  {
   "cell_type": "code",
   "execution_count": null,
   "metadata": {},
   "outputs": [],
   "source": [
    "# 4. Crie um programa para transformar km, inserido pelo usuário (em km), para metro. Se o usuário digitar 0, a estrutura deve ser interrompida.\n",
    "\n",
    "while True:\n",
    "    km = int(input('Digite o km, caso digite zero o programa irá parar: '))\n",
    "    if km == 0:\n",
    "        break\n",
    "    print(km/1000)"
   ]
  },
  {
   "cell_type": "markdown",
   "metadata": {},
   "source": [
    "CHECKPOINT QUESTIONS"
   ]
  },
  {
   "cell_type": "code",
   "execution_count": 21,
   "metadata": {},
   "outputs": [
    {
     "name": "stdout",
     "output_type": "stream",
     "text": [
      "[5.555555555555556e-09, 1.1111111111111112e-08, 1.6666666666666667e-08, 2.2222222222222224e-08, 2.7777777777777777e-08, 3.3333333333333334e-08]\n"
     ]
    }
   ],
   "source": [
    "# 1.Crie um programa que retorne uma lista de valores de massa,\n",
    "# dado que a velocidade da luz é c = 300000 km/s e a lista de força 500, 1000, 1500, 2000, 2500, 3000 kN respectivamente. \n",
    "# Utilize uma estrutura de repetição com for e append.\n",
    "\n",
    "# E = m*c**2\n",
    "\n",
    "# m = E/c**2\n",
    "\n",
    "c = 300000\n",
    "\n",
    "lista_de_forca = [500, 1000, 1500, 2000, 2500, 3000]\n",
    "\n",
    "lista_massa = []\n",
    "\n",
    "for e in lista_de_forca: \n",
    "    massa = e/c**2\n",
    "    lista_massa.append(massa)\n",
    "    \n",
    "print(lista_massa)\n",
    "\n"
   ]
  },
  {
   "cell_type": "code",
   "execution_count": 1,
   "metadata": {},
   "outputs": [
    {
     "name": "stdout",
     "output_type": "stream",
     "text": [
      "['', 'reg', 'dg', 'gfd', 'gfd']\n",
      "['rdb', 'fd', 'rg', 'gdf', 'dfg']\n"
     ]
    }
   ],
   "source": [
    "# Crie um programa para solicitar quatro nomes e cpfs. Utilize listas, contador, \n",
    "# append e retorne duas listas chamadas nomes e cpfs contendo as respectivas informações. Utilize estrutura de repetição while.\n",
    "\n",
    "i = 1\n",
    "nomes = []\n",
    "cpfs = []\n",
    "\n",
    "while i <= 4:\n",
    "    nomes.append(input('Digite seu nome: ')) \n",
    "    cpfs.append(int(input('Digite seu cpf: '))) \n",
    "    i += 1\n",
    "    \n",
    "print(nomes)\n",
    "print(cpfs)\n",
    "\n"
   ]
  },
  {
   "cell_type": "code",
   "execution_count": 4,
   "metadata": {},
   "outputs": [
    {
     "name": "stdout",
     "output_type": "stream",
     "text": [
      "[1620.0]\n",
      "[2000.0, 2560.0]\n",
      "[2940.0, 3500.0]\n"
     ]
    }
   ],
   "source": [
    "#3.Cálculo de Salário Líquido - Em uma empresa, os funcionários têm seus salários calculados de acordo com as seguintes regras:\n",
    "  \n",
    "# - Se o salário for até R$ 2.000,00, será aplicado um desconto de 10%;\n",
    "# - Se o salário for superior a R$ 2.000,00 e até R$ 4.000,00, será aplicado um desconto de 20%;\n",
    "# - Se o salário for superior a R$ 4.000,00, será aplicado um desconto de 30%.\n",
    "  \n",
    "# Escreva um programa em Python para retornar os respectivos descontos no salário dos funcionários de acordo com as regras descritas anteriormente. \n",
    "# Retorne os salários líquidos de cada um, considerando os descontos aplicados. Armazene os salários líquidos em três listas diferentes, \n",
    "# salario_10, salario_20 e salario_30, para cada respectiva faixa de desconto. Considere a lista salarios = [1800, 2500, 3200, 4200, 5000].\n",
    "\n",
    "# if salario menor igual 2000 entao salario -10%\n",
    "\n",
    "# if salario maior que 2000 e menor igual 4000 entao salario -20%\n",
    "\n",
    "\n",
    "# if salario maior que 4000 entao salario -30%\n",
    "\n",
    "\n",
    "\n",
    "salario_10 = []\n",
    "salario_20 = []\n",
    "salario_30 = []\n",
    "\n",
    "lista_salarios = [1800, 2500, 3200, 4200, 5000]\n",
    "for i in lista_salarios:\n",
    "    if i <= 2000:\n",
    "        salario_10.append(i - (i * 0.1))\n",
    "    elif i > 2000 and i <= 4000:\n",
    "        salario_20.append(i - (i * 0.2))\n",
    "    else:\n",
    "        salario_30.append(i - (i * 0.3))\n",
    "        \n",
    "print(salario_10)\n",
    "print(salario_20)\n",
    "print(salario_30)\n",
    "        \n"
   ]
  },
  {
   "cell_type": "code",
   "execution_count": 3,
   "metadata": {},
   "outputs": [
    {
     "name": "stdout",
     "output_type": "stream",
     "text": [
      "O valor total das compras do usuário 1 é:  50.0\n",
      "O valor médio das compras do usuário 1 é:  10.0\n",
      "O valor total das compras do usuário 2 é:  50.0\n",
      "O valor médio das compras do usuário 2 é:  10.0\n"
     ]
    }
   ],
   "source": [
    "# 4.Programa de Compras em uma Loja de Jogos - Neste programa, \n",
    "# você será solicitado a inserir os valores de 5 produtos diferentes para dois usuários em uma loja de jogos. \n",
    "# O programa calculará e exibirá o valor total das compras de cada usuário, bem como o valor médio das compras de cada um.\n",
    "\n",
    "for i in range(2):\n",
    "    total = 0\n",
    "    for j in range(5):\n",
    "        valor = float(input(\"Digite o valor do produto: \"))\n",
    "        total += valor\n",
    "\n",
    "    print(f\"O valor total das compras do usuário {i+1} é: \", total)\n",
    "    print(f\"O valor médio das compras do usuário {i+1} é: \", total/5)\n"
   ]
  },
  {
   "cell_type": "code",
   "execution_count": 6,
   "metadata": {},
   "outputs": [
    {
     "name": "stdout",
     "output_type": "stream",
     "text": [
      "O produto monitor está na lista de produtos da loja.\n",
      "O produto ssd está na lista de produtos da loja.\n",
      "O produto ssd está na lista de produtos da loja.\n",
      "O produto noteboo não está na lista de produtos da loja.\n",
      "O produto notebook está na lista de produtos da loja.\n",
      "Quantidade de cada produto no carrinho:\n",
      "Notebook: 1\n",
      "SSD: 2\n",
      "Mouse: 0\n",
      "Teclado: 0\n",
      "Monitor: 1\n"
     ]
    }
   ],
   "source": [
    "# # 5.Você está criando um programa para registrar as compras em uma loja de computadores. Primeiro, \n",
    "# você solicitará ao usuário que insira 5 produtos adquiridos. Em seguida, usando uma estrutura de repetição com while, \n",
    "# você criará uma lista e inserirá esses produtos nela.\n",
    "  \n",
    "# lista_produtos = ['notebook', 'ssd', 'mouse', 'teclado', 'monitor']\n",
    "  \n",
    "# Depois, você verificará se os produtos digitados estão dentro da lista de produtos da loja. \n",
    "# Para isso, você usará uma estrutura de repetição for. Em seguida, você contará a quantidade de cada tipo de produto digitado pelo usuário. \n",
    "i = 1\n",
    "lista_usuario = []\n",
    "lista_produtos = ['notebook', 'ssd', 'mouse', 'teclado', 'monitor']\n",
    "\n",
    "notebook = 0\n",
    "ssd = 0\n",
    "mouse = 0\n",
    "teclado = 0\n",
    "monitor = 0\n",
    "\n",
    "while i <=5:\n",
    "    lista_usuario.append(input('Qual produto você adquiriu? '))\n",
    "    i +=1\n",
    "    \n",
    "for produto in lista_usuario:\n",
    "    if produto in lista_produtos:\n",
    "        print(f'O produto {produto} está na lista de produtos da loja.')\n",
    "        if produto == 'notebook':\n",
    "            notebook += 1\n",
    "        elif produto == 'ssd':\n",
    "            ssd+=1\n",
    "        elif produto == 'mouse':\n",
    "            mouse += 1\n",
    "        elif produto == 'teclado':\n",
    "            teclado +=1\n",
    "        elif produto == 'monitor':\n",
    "            monitor +=1\n",
    "            \n",
    "    else:\n",
    "        print(f'O produto {produto} não está na lista de produtos da loja.')\n",
    "        \n",
    "print('Quantidade de cada produto no carrinho:')\n",
    "print(f'Notebook: {notebook}')\n",
    "print(f'SSD: {ssd}')\n",
    "print(f'Mouse: {mouse}')\n",
    "print(f'Teclado: {teclado}')\n",
    "print(f'Monitor: {monitor}')\n",
    "        \n"
   ]
  }
 ],
 "metadata": {
  "kernelspec": {
   "display_name": "Python 3",
   "language": "python",
   "name": "python3"
  },
  "language_info": {
   "codemirror_mode": {
    "name": "ipython",
    "version": 3
   },
   "file_extension": ".py",
   "mimetype": "text/x-python",
   "name": "python",
   "nbconvert_exporter": "python",
   "pygments_lexer": "ipython3",
   "version": "3.12.0"
  }
 },
 "nbformat": 4,
 "nbformat_minor": 2
}
