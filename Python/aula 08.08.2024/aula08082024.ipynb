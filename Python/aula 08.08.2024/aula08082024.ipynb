{
 "cells": [
  {
   "cell_type": "code",
   "execution_count": 5,
   "metadata": {},
   "outputs": [
    {
     "name": "stdout",
     "output_type": "stream",
     "text": [
      " foi descontado 27.5%, resultando em 1375.0 de desconto, resultando em um salario de 3625.0\n"
     ]
    }
   ],
   "source": [
    "\"\"\"crie um programa para solicitar um salário para o usuário e retornar o desconto em função da faixa de salario e a porcentagem\n",
    "de desconto\n",
    "\n",
    "até R$2259.20 - isento\n",
    "de R$2259.21 até R$2826,65 - 7.5%\n",
    "de R$2826.66 até R$3751.05 - 15%\n",
    "de R$3751.06 até R$4664.68 - 22.5%\n",
    "e acima de R$4664.68 - 27.5%\n",
    "\n",
    "\"\"\"\n",
    "\n",
    "salario = float(input(\"Digite o salário: \"))\n",
    "\n",
    "if salario < 2259.20:\n",
    "    print('isento')\n",
    "elif salario >= 2259.21 and salario < 2826.65:\n",
    "    print(f' foi descontado 7.5%, resultando em {(7.5/100)*salario} de desconto, resultando em um salario de {salario - ((7.5/100)*salario)}')\n",
    "elif salario >= 2826.65 and salario < 3751.05:\n",
    "    print(f' foi descontado 15%, resultando em {(15/100)*salario} de desconto, resultando em um salario de {salario - ((15/100)*salario)}')\n",
    "elif salario >= 3751.05 and salario < 4664.68:\n",
    "    print(f' foi descontado 22.5%, resultando em {(22.5/100)*salario} de desconto, resultando em um salario de {salario - ((22.5/100)*salario)}')\n",
    "else:\n",
    "    print(f' foi descontado 27.5%, resultando em {(27.5/100)*salario} de desconto, resultando em um salario de {salario - ((27.5/100)*salario)}')\n",
    "    "
   ]
  },
  {
   "cell_type": "code",
   "execution_count": 4,
   "metadata": {},
   "outputs": [
    {
     "data": {
      "text/plain": [
       "3625.0"
      ]
     },
     "execution_count": 4,
     "metadata": {},
     "output_type": "execute_result"
    }
   ],
   "source": [
    "'''Crie uma função para calcular o desconto para os funcionarios utilize função def'''\n",
    "\n",
    "def desconto(salario):\n",
    "    desconto = 0\n",
    "    if salario < 2259.20:\n",
    "        pass\n",
    "    elif salario >= 2259.21 and salario < 2826.65:\n",
    "        desconto = salario - ((7.5/100)*salario)\n",
    "    elif salario >= 2826.65 and salario < 3751.05:\n",
    "        desconto = salario - ((15/100)*salario)\n",
    "    elif salario >= 3751.05 and salario < 4664.68:\n",
    "        desconto = salario - ((22.5/100)*salario)\n",
    "    else:\n",
    "        desconto = salario - ((27.5/100)*salario)\n",
    "    return desconto\n",
    "    \n",
    "desconto(float(input('Qual é o seu salario? ')))\n"
   ]
  },
  {
   "cell_type": "code",
   "execution_count": 33,
   "metadata": {},
   "outputs": [
    {
     "name": "stdout",
     "output_type": "stream",
     "text": [
      "['55654.0, desconto: 15304.85', '67543776.0, desconto: 18574538.400000002', '43645.0, desconto: 12002.375000000002', '6.0, desconto: 0', '46.0, desconto: 0', '4.0, desconto: 0', '345.0, desconto: 0', '4567.0, desconto: 1027.575', '67.0, desconto: 0', '5.0, desconto: 0', '746.0, desconto: 0', '647.0, desconto: 0', '46.0, desconto: 0', '568.0, desconto: 0', '5.0, desconto: 0', '457.0, desconto: 0', '765.0, desconto: 0', '57.0, desconto: 0', '856.0, desconto: 0', '67.0, desconto: 0', '0.0, desconto: 0']\n"
     ]
    }
   ],
   "source": [
    "'''crie uma lista para resolver o problema de calculo de salario para os funcionarios, obs: utilizar listas'''\n",
    "lista_fon = []\n",
    "\n",
    "while True:\n",
    "    salarios = float(input('qual o seu salario? '))\n",
    "    lista_fon.append(salarios)\n",
    "    if salarios == 0:\n",
    "        break\n",
    "\n",
    "def lista_salarios_resolve(lista_salarios):\n",
    "    lista_descontos = []\n",
    "    for i in lista_salarios:\n",
    "        \n",
    "        indice = i\n",
    "        \n",
    "        if indice < 2259.20:\n",
    "            lista_descontos.append(f'{indice}, desconto: {0}')\n",
    "        elif indice >= 2259.21 and indice < 2826.65:\n",
    "            lista_descontos.append(f'{indice}, desconto: {(7.5/100)*indice}')\n",
    "        elif indice >= 2826.65 and indice < 3751.05:\n",
    "            lista_descontos.append(f'{indice}, desconto: {(15/100)*indice}')\n",
    "        elif indice >= 3751.05 and indice < 4664.68:\n",
    "            lista_descontos.append(f'{indice}, desconto: {(22.5/100)*indice}')\n",
    "        else:\n",
    "            lista_descontos.append(f'{indice}, desconto: {(27.5/100)*indice}')    \n",
    "        \n",
    "    return lista_descontos\n",
    "            \n",
    "print(lista_salarios_resolve(lista_fon))"
   ]
  },
  {
   "cell_type": "code",
   "execution_count": 35,
   "metadata": {},
   "outputs": [
    {
     "name": "stdout",
     "output_type": "stream",
     "text": [
      "melhores opções:['british airway', 'emirates']\n"
     ]
    }
   ],
   "source": [
    "'''crie uma lista para resolver um problema que envolve informações não numéricas'''\n",
    "\n",
    "'''caso a pessoa vá viajar dentro do brazil, mostre que esta companhia faz voo nacional, caso a pessoa precise viajar para o exterior, mostre\n",
    "que a companhia correta para o destino da pessoa'''\n",
    "\n",
    "lista_companhias_aereas = ['gol','tam','azul','british airway','emirates']\n",
    "opcao_escolhida = str(input('viagem nacional ou internacional?'))\n",
    "\n",
    "match opcao_escolhida:\n",
    "    case 'nacional':\n",
    "        print(f'melhores opções:{lista_companhias_aereas[:3]}')\n",
    "    case 'internacional':\n",
    "        print(f'melhores opções:{lista_companhias_aereas[3:]}')\n",
    "    case _:\n",
    "        print('opção invalida')\n",
    "\n"
   ]
  },
  {
   "cell_type": "code",
   "execution_count": null,
   "metadata": {},
   "outputs": [],
   "source": [
    "salario_bruto = float(input('salario aq: '))\n",
    "\n",
    "lista_desconto = [\n",
    "    (2259.20, 0),\n",
    "    (2826.65, 7.5),\n",
    "    (3751.05, 15),\n",
    "    (4664.68, 22.5),\n",
    "    (4664.68, 27.5)\n",
    "]\n",
    "\n",
    "desconto = 0 \n",
    "\n",
    "for i,k in lista_desconto:\n",
    "    if salario_bruto <= i:\n",
    "        desconto = salario_bruto - k\n",
    "        break\n",
    "\n",
    "salario_receber = salario_bruto - desconto\n",
    "\n",
    "print(f'desconto foi: {desconto}')\n",
    "print(f'salario a receber{salario_receber}')"
   ]
  }
 ],
 "metadata": {
  "kernelspec": {
   "display_name": "base",
   "language": "python",
   "name": "python3"
  },
  "language_info": {
   "codemirror_mode": {
    "name": "ipython",
    "version": 3
   },
   "file_extension": ".py",
   "mimetype": "text/x-python",
   "name": "python",
   "nbconvert_exporter": "python",
   "pygments_lexer": "ipython3",
   "version": "3.11.7"
  }
 },
 "nbformat": 4,
 "nbformat_minor": 2
}
