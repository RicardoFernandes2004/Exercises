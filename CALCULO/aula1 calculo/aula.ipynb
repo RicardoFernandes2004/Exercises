{
 "cells": [
  {
   "cell_type": "code",
   "execution_count": 7,
   "metadata": {},
   "outputs": [
    {
     "name": "stdout",
     "output_type": "stream",
     "text": [
      "[0.0, 0.1, 0.02, 0.003, 0.0004, 5e-05, 6e-06, 7e-07, 8e-08, 9e-09] [0.0, -0.1, -0.02, -0.003, -0.0004, -5e-05, -6e-06, -7e-07, -8e-08, -9e-09]\n"
     ]
    }
   ],
   "source": [
    "from sympy import *\n",
    "from numpy import *\n",
    "from math import *\n",
    "\n",
    "\n",
    "lista_d = []\n",
    "lista_e = []\n",
    "\n",
    "for i in range(10):\n",
    "    lista_d.append(i/(10**i))\n",
    "    lista_e.append(-i/(10**i))\n",
    "    \n",
    "print(lista_d,lista_e)\n",
    "\n",
    "\n"
   ]
  }
 ],
 "metadata": {
  "kernelspec": {
   "display_name": "base",
   "language": "python",
   "name": "python3"
  },
  "language_info": {
   "codemirror_mode": {
    "name": "ipython",
    "version": 3
   },
   "file_extension": ".py",
   "mimetype": "text/x-python",
   "name": "python",
   "nbconvert_exporter": "python",
   "pygments_lexer": "ipython3",
   "version": "3.11.7"
  }
 },
 "nbformat": 4,
 "nbformat_minor": 2
}
