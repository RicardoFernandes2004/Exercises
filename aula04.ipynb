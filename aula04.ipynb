{
 "cells": [
  {
   "cell_type": "code",
   "execution_count": 1,
   "metadata": {},
   "outputs": [
    {
     "name": "stdout",
     "output_type": "stream",
     "text": [
      "QUANDO O 0 É ADICIONADO ELE AUTOMATICAMENTE PARTE PARA FAZER A CONTA, USE 0 APENAS QUANDO TERMINAR DE ADICIONAR OS VALORES\n",
      "112.0\n"
     ]
    }
   ],
   "source": [
    "import math\n",
    "\n",
    "\n",
    "print(\"QUANDO O 0 É ADICIONADO ELE AUTOMATICAMENTE PARTE PARA FAZER A CONTA, USE 0 APENAS QUANDO TERMINAR DE ADICIONAR OS VALORES\")\n",
    "\n",
    "num_a_calcular = [1,]\n",
    "numAdd = float(input(\"insira seu numero \"))\n",
    "while numAdd != 0: \n",
    "    num_a_calcular.append(numAdd)\n",
    "    numAdd=float(input(\"insira o proximo valor \"))\n",
    "    \n",
    "soma = sum(num_a_calcular[1:])\n",
    "divisor = len(num_a_calcular[1:])\n",
    "\n",
    "med = soma / divisor\n",
    "\n",
    "print(f'Sua média é {med}')\n",
    "\n"
   ]
  },
  {
   "cell_type": "code",
   "execution_count": 18,
   "metadata": {},
   "outputs": [
    {
     "name": "stdout",
     "output_type": "stream",
     "text": [
      "Aprovado 9\n"
     ]
    }
   ],
   "source": [
    "nota1 = int(input(\"insira sua nota\"))\n",
    "nota2 = int(input(\"insira sua nota\"))\n",
    "nota3 = int(input(\"insira sua nota\"))\n",
    "artigo = 'publicado'\n",
    "\n",
    "media = (nota1 + nota2 + nota3)/3\n",
    "\n",
    "if media >= 7:\n",
    "    print(\"Aprovado\",media)\n",
    "    \n",
    "elif artigo == True:\n",
    "    print(\"aprovado\")\n",
    "    \n",
    "else:\n",
    "    print(\"reprovado\")"
   ]
  },
  {
   "cell_type": "code",
   "execution_count": 27,
   "metadata": {},
   "outputs": [
    {
     "name": "stdout",
     "output_type": "stream",
     "text": [
      "Como sua presença foi maior que 75 mas sua média foi menor que 7 você está de exame, boa sorte. Sua média foi de 5.666666666666667.\n"
     ]
    }
   ],
   "source": [
    "#crie um sistema em que o usuario pode inserir 3 notas e sua % de presença\n",
    "#caso o aluno tenha uma média >= 7 AND presença >= 75, print aprovado, caso contrario ele é reprovado\n",
    "\n",
    "nota1 = int(input(\"insira sua nota\"))\n",
    "nota2 = int(input(\"insira sua nota\"))\n",
    "nota3 = int(input(\"insira sua nota\"))\n",
    "presenca = int(input(\"digite quanto de presença você teve\"))\n",
    "\n",
    "\n",
    "media = (nota1 + nota2 + nota3)/3\n",
    "\n",
    "if media >= 7 and presenca >= 75:\n",
    "    print(f'Você foi aprovado com {media} de média e {presenca}% de presença')\n",
    "    \n",
    "elif (media < 7 and media >=4) and presenca >= 75:\n",
    "    print(f'Como sua presença foi maior que 75 mas sua média foi menor que 7 você está de exame, boa sorte. Sua média foi de {media}.')\n",
    "else:\n",
    "    print(f'Você foi reprovado com {media} de média e {presenca}% de presença')"
   ]
  },
  {
   "cell_type": "code",
   "execution_count": 30,
   "metadata": {},
   "outputs": [
    {
     "name": "stdout",
     "output_type": "stream",
     "text": [
      "O maior valor é 1\n"
     ]
    }
   ],
   "source": [
    "# um algoritmo para mostrar ao usuário qual número é maior entre a, b, c, peça ao usuário para inserir três valores e compare quem é maior\n",
    "num1 = int(input(f\"insira o a: \"))\n",
    "num2 = int(input(f\"Insira o b: \"))\n",
    "num3 = int(input(f\"Insira o c: \"))\n",
    "\n",
    "if (num1 >  num2) and (num1 > num3):\n",
    "    print(f\"O maior valor é {num1}\")\n",
    "elif (num2 > num1) and (num2 > num3):\n",
    "    print(f\"O maior valor é {num2}\")\n",
    "elif (num1 == num2) and (num1 < num3) and (num3 > num2):\n",
    "    print(f'{num3} é maior')\n",
    "elif (num1 == num3) and (num1 < num2) and (num2 > num3):\n",
    "    print(f'{num2} é maior')\n",
    "elif (num2 == num3) and (num1 > num2) and (num1 > num3):\n",
    "    print(f'{num1} é maior')    \n",
    "elif (num1 == num2) and (num2 == num3):\n",
    "    print(\"são todos iguais\")\n",
    "else:\n",
    "    print(f\"O maior valor é {num3}\")"
   ]
  },
  {
   "cell_type": "code",
   "execution_count": 34,
   "metadata": {},
   "outputs": [
    {
     "name": "stdout",
     "output_type": "stream",
     "text": [
      "500\n"
     ]
    }
   ],
   "source": [
    "# Crie um algoritmo para mostrar quanto o usuário terá que pagar de multa, caso ultrapasse 80km/h. Caso isso aconteça, a cada 1km/h deverá ser pago 5 reais\n",
    "\n",
    "velocidade = int(input('Qual é sua velocidade'))\n",
    "\n",
    "\n",
    "velocidade_acima = velocidade - 80\n",
    "\n",
    "if velocidade < 80:\n",
    "    print('Você não tem multas')\n",
    "else:\n",
    "    print(f'Sua multa é de R${velocidade_acima*5}')"
   ]
  },
  {
   "cell_type": "code",
   "execution_count": 37,
   "metadata": {},
   "outputs": [
    {
     "name": "stdout",
     "output_type": "stream",
     "text": [
      "7 é impar\n"
     ]
    }
   ],
   "source": [
    "# Crie um algoritmo para verificar se o numero que o usuário inseriu é par ou impar\n",
    "numero = int(input(\"digite seu numero\"))\n",
    "\n",
    "if numero % 2 == 0:\n",
    "    print(f'{numero} é par')\n",
    "else:\n",
    "    print(f'{numero} é impar')\n"
   ]
  },
  {
   "cell_type": "code",
   "execution_count": 47,
   "metadata": {},
   "outputs": [
    {
     "name": "stdout",
     "output_type": "stream",
     "text": [
      "Idade inválida!\n"
     ]
    }
   ],
   "source": [
    "# Crie um algoritmo pra mostrar de uma pessoa é criança, adolescente, adulto ou idoso em função de faixas etárias\n",
    "# criança < 12\n",
    "# adolescente >= 12 and <18\n",
    "# Adulto >= 18 and < 65\n",
    "# Idoso >= 65\n",
    "\n",
    "idade = int(input('insira sua idade'))\n",
    "if (idade < 0) and (idade < 12):\n",
    "    print('você é criança')\n",
    "elif (idade >= 12) and  (idade < 18):\n",
    "    print('Você é um adolescente')\n",
    "elif (idade >= 18) and (idade < 65):\n",
    "    print('Você é adulto')\n",
    "elif idade <= 0:\n",
    "    print('Idade inválida!')\n",
    "else:\n",
    "    print('Você é idoso')\n"
   ]
  },
  {
   "cell_type": "code",
   "execution_count": 78,
   "metadata": {},
   "outputs": [
    {
     "name": "stdout",
     "output_type": "stream",
     "text": [
      "Dia de netflix\n"
     ]
    }
   ],
   "source": [
    "# Crie um algoritmo para o usuário inserir um dia da semana.\n",
    "# Caso seja sábado, print dia de balada, caso  seja domingo, print dia de netflix, futebol, cinema. caso contrário, print dia de estudar ou trabalhar\n",
    "import random\n",
    "\n",
    "dia = input(\"insira um dia da semana\")\n",
    "atividades_domingo = [\"netflix\", \"cinema\", \"futebol\"]\n",
    "atividades = random.choice(atividades_domingo[:3])\n",
    "\n",
    "if (dia == 'Sábado') or (dia == 'sabado'):\n",
    "    print(\"dia de balada\")\n",
    "elif (dia == 'Domingo') or (dia == 'domingo'):\n",
    "    print(f\"Dia de {atividades}\")\n",
    "else:\n",
    "    print('dia de trabalho ou estudo')"
   ]
  },
  {
   "cell_type": "code",
   "execution_count": 87,
   "metadata": {},
   "outputs": [
    {
     "name": "stdout",
     "output_type": "stream",
     "text": [
      "você recebera 50% de bonus\n"
     ]
    }
   ],
   "source": [
    "#Crie um algoritmo para medir tipo de cargo (gerente, diretor, operador) e tempo de trabalho. considere as seguintes situações\n",
    "cargo = str(input(\"insira seu cargo\"))\n",
    "tempo_trabalhado = int(input(\"quanto tempo você trabalhou em meses?\"))\n",
    "\n",
    "if ((cargo == \"gerente\") or (cargo == \"diretor\")) and (tempo_trabalhado >= 12 ):\n",
    "    print(\"você receberá bonus integral\")\n",
    "elif ((cargo == \"gerente\") or (cargo == \"diretor\")) and ((tempo_trabalhado < 12) and (tempo_trabalhado >= 6)):\n",
    "    print(\"você recebera 50% de bonus\")\n",
    "elif ((cargo == \"gerente\") or (cargo == \"diretor\")) and (tempo_trabalhado < 6 ):\n",
    "    print(\"você não receberá bonus\")\n",
    "elif (cargo == \"operador\") and (tempo_trabalhado >= 12):\n",
    "    print(\"seu bonus será de 80%\")\n",
    "elif (cargo == \"operador\") and ((tempo_trabalhado < 12) and (tempo_trabalhado >= 4)):\n",
    "    print(\"você receberá 50% de bonus\")\n",
    "elif (cargo == \"operador\") and (tempo_trabalhado < 4):\n",
    "    print(\"não terá bonus\")\n",
    "else:\n",
    "    print(\"insira dados válidos\")"
   ]
  },
  {
   "cell_type": "code",
   "execution_count": 89,
   "metadata": {},
   "outputs": [
    {
     "name": "stdout",
     "output_type": "stream",
     "text": [
      " sua operação foi de uma \"**\" e seu resultado é 8.0\n"
     ]
    }
   ],
   "source": [
    "num1 = float(input(\"insira um numero\"))\n",
    "num2 = float(input(\"insira outro numero\"))\n",
    "operacao = str(input('insira uma operação'))\n",
    "\n",
    "if operacao == \"+\":\n",
    "    print(f'sua operação foi de uma \"{operacao}\" e seu resultado é {num1 + num2}')\n",
    "elif operacao == \"-\":\n",
    "    print(f'sua operação foi de uma \"{operacao}\" e o resultado é {num1 - num2}')\n",
    "elif operacao == \"*\":\n",
    "    print(f'sua operação foi de uma \"{operacao}\" e seu resultado é {num1 * num2}')\n",
    "elif operacao == \"**\":\n",
    "    print(f' sua operação foi de uma \"{operacao}\" e seu resultado é {num1 ** num2}')\n",
    "elif operacao == \"/\":\n",
    "    print(f'sua operação foi de uma \"{operacao}\" e seu resultado é {num1 / num2}')\n",
    "else:\n",
    "    print(\"insira uma operação válida\")   "
   ]
  }
 ],
 "metadata": {
  "kernelspec": {
   "display_name": "base",
   "language": "python",
   "name": "python3"
  },
  "language_info": {
   "codemirror_mode": {
    "name": "ipython",
    "version": 3
   },
   "file_extension": ".py",
   "mimetype": "text/x-python",
   "name": "python",
   "nbconvert_exporter": "python",
   "pygments_lexer": "ipython3",
   "version": "3.11.7"
  }
 },
 "nbformat": 4,
 "nbformat_minor": 2
}
