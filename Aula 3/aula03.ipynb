{
 "cells": [
  {
   "cell_type": "code",
   "execution_count": null,
   "metadata": {},
   "outputs": [],
   "source": [
    "from sympy import *\n",
    "\n"
   ]
  },
  {
   "cell_type": "code",
   "execution_count": 30,
   "metadata": {},
   "outputs": [
    {
     "data": {
      "text/latex": [
       "$\\displaystyle \\frac{d}{d x} x^{2}$"
      ],
      "text/plain": [
       "Derivative(x**2, x)"
      ]
     },
     "execution_count": 30,
     "metadata": {},
     "output_type": "execute_result"
    }
   ],
   "source": [
    "x = Symbol('x')\n",
    "y = Symbol('y')\n",
    "Derivative(x**2)"
   ]
  },
  {
   "cell_type": "code",
   "execution_count": 31,
   "metadata": {},
   "outputs": [
    {
     "data": {
      "text/latex": [
       "$\\displaystyle 2 x$"
      ],
      "text/plain": [
       "2*x"
      ]
     },
     "execution_count": 31,
     "metadata": {},
     "output_type": "execute_result"
    }
   ],
   "source": [
    "x = Symbol('x')\n",
    "y = Symbol('y')\n",
    "Derivative(x**2).doit()"
   ]
  },
  {
   "cell_type": "code",
   "execution_count": 33,
   "metadata": {},
   "outputs": [
    {
     "data": {
      "text/latex": [
       "$\\displaystyle x^{2} - 10 x + 2$"
      ],
      "text/plain": [
       "x**2 - 10*x + 2"
      ]
     },
     "execution_count": 33,
     "metadata": {},
     "output_type": "execute_result"
    }
   ],
   "source": [
    "x**2 - 10*x + 2"
   ]
  },
  {
   "cell_type": "code",
   "execution_count": 34,
   "metadata": {},
   "outputs": [
    {
     "data": {
      "text/latex": [
       "$\\displaystyle \\frac{d}{d x} x^{3}$"
      ],
      "text/plain": [
       "Derivative(x**3, x)"
      ]
     },
     "execution_count": 34,
     "metadata": {},
     "output_type": "execute_result"
    }
   ],
   "source": [
    "n = Symbol('x')\n",
    "Derivative(n**3)"
   ]
  },
  {
   "cell_type": "code",
   "execution_count": 35,
   "metadata": {},
   "outputs": [
    {
     "data": {
      "text/latex": [
       "$\\displaystyle 3 x^{2}$"
      ],
      "text/plain": [
       "3*x**2"
      ]
     },
     "execution_count": 35,
     "metadata": {},
     "output_type": "execute_result"
    }
   ],
   "source": [
    "n = Symbol('x')\n",
    "Derivative(n**3).doit()"
   ]
  },
  {
   "cell_type": "code",
   "execution_count": 36,
   "metadata": {},
   "outputs": [
    {
     "data": {
      "text/latex": [
       "$\\displaystyle \\frac{d}{d n} \\left(2 n^{2} + 10\\right)$"
      ],
      "text/plain": [
       "Derivative(2*n**2 + 10, n)"
      ]
     },
     "execution_count": 36,
     "metadata": {},
     "output_type": "execute_result"
    }
   ],
   "source": [
    "n = Symbol('n')\n",
    "Derivative(2*(n**2) + 10)"
   ]
  },
  {
   "cell_type": "code",
   "execution_count": 37,
   "metadata": {},
   "outputs": [
    {
     "data": {
      "text/latex": [
       "$\\displaystyle 4 n$"
      ],
      "text/plain": [
       "4*n"
      ]
     },
     "execution_count": 37,
     "metadata": {},
     "output_type": "execute_result"
    }
   ],
   "source": [
    "n = Symbol('n')\n",
    "Derivative(2*(n**2) + 10).doit()"
   ]
  },
  {
   "cell_type": "code",
   "execution_count": 38,
   "metadata": {},
   "outputs": [
    {
     "data": {
      "text/latex": [
       "$\\displaystyle \\frac{d}{d n} \\left(5 n^{3} - 10 n^{2} + 2 n - 2\\right)$"
      ],
      "text/plain": [
       "Derivative(5*n**3 - 10*n**2 + 2*n - 2, n)"
      ]
     },
     "execution_count": 38,
     "metadata": {},
     "output_type": "execute_result"
    }
   ],
   "source": [
    "n = Symbol('n')\n",
    "Derivative(5*(n**3) - 10*(n**2) + 2*n - 2)"
   ]
  },
  {
   "cell_type": "code",
   "execution_count": 39,
   "metadata": {},
   "outputs": [
    {
     "data": {
      "text/latex": [
       "$\\displaystyle 15 n^{2} - 20 n + 2$"
      ],
      "text/plain": [
       "15*n**2 - 20*n + 2"
      ]
     },
     "execution_count": 39,
     "metadata": {},
     "output_type": "execute_result"
    }
   ],
   "source": [
    "n = Symbol('n')\n",
    "Derivative(5*(n**3) - 10*(n**2) + 2*n - 2).doit()"
   ]
  },
  {
   "cell_type": "code",
   "execution_count": 40,
   "metadata": {},
   "outputs": [
    {
     "data": {
      "text/latex": [
       "$\\displaystyle \\frac{d}{d n} \\cos{\\left(n \\right)}$"
      ],
      "text/plain": [
       "Derivative(cos(n), n)"
      ]
     },
     "execution_count": 40,
     "metadata": {},
     "output_type": "execute_result"
    }
   ],
   "source": [
    "n = Symbol('n')\n",
    "Derivative(cos(n))"
   ]
  },
  {
   "cell_type": "code",
   "execution_count": 41,
   "metadata": {},
   "outputs": [
    {
     "data": {
      "text/latex": [
       "$\\displaystyle - \\sin{\\left(n \\right)}$"
      ],
      "text/plain": [
       "-sin(n)"
      ]
     },
     "execution_count": 41,
     "metadata": {},
     "output_type": "execute_result"
    }
   ],
   "source": [
    "n = Symbol('n')\n",
    "Derivative(cos(n)).doit()"
   ]
  },
  {
   "cell_type": "code",
   "execution_count": 42,
   "metadata": {},
   "outputs": [
    {
     "data": {
      "text/latex": [
       "$\\displaystyle \\frac{d}{d n} \\sin{\\left(n \\right)}$"
      ],
      "text/plain": [
       "Derivative(sin(n), n)"
      ]
     },
     "execution_count": 42,
     "metadata": {},
     "output_type": "execute_result"
    }
   ],
   "source": [
    "n = Symbol('n')\n",
    "Derivative(sin(n))"
   ]
  },
  {
   "cell_type": "code",
   "execution_count": 43,
   "metadata": {},
   "outputs": [
    {
     "data": {
      "text/latex": [
       "$\\displaystyle \\cos{\\left(n \\right)}$"
      ],
      "text/plain": [
       "cos(n)"
      ]
     },
     "execution_count": 43,
     "metadata": {},
     "output_type": "execute_result"
    }
   ],
   "source": [
    "n = Symbol('n')\n",
    "Derivative(sin(n)).doit()"
   ]
  },
  {
   "cell_type": "code",
   "execution_count": 46,
   "metadata": {},
   "outputs": [
    {
     "data": {
      "text/latex": [
       "$\\displaystyle \\int x^{2}\\, dx$"
      ],
      "text/plain": [
       "Integral(x**2, x)"
      ]
     },
     "execution_count": 46,
     "metadata": {},
     "output_type": "execute_result"
    }
   ],
   "source": [
    "Integral(x**2)"
   ]
  },
  {
   "cell_type": "code",
   "execution_count": 47,
   "metadata": {},
   "outputs": [
    {
     "data": {
      "text/latex": [
       "$\\displaystyle \\frac{x^{3}}{3}$"
      ],
      "text/plain": [
       "x**3/3"
      ]
     },
     "execution_count": 47,
     "metadata": {},
     "output_type": "execute_result"
    }
   ],
   "source": [
    "Integral(x**2).doit()"
   ]
  },
  {
   "cell_type": "code",
   "execution_count": 48,
   "metadata": {},
   "outputs": [],
   "source": [
    "from sympy.plotting import *"
   ]
  },
  {
   "cell_type": "code",
   "execution_count": 56,
   "metadata": {},
   "outputs": [
    {
     "name": "stdout",
     "output_type": "stream",
     "text": [
      "   4000 |                                                      /\n",
      "        |                                                     / \n",
      "        |                                                    /  \n",
      "        |                                                  ..   \n",
      "        |                                                ..     \n",
      "        |                                              ..       \n",
      "        |                                            ..         \n",
      "        |                                        ....           \n",
      "        |                   .....................               \n",
      "        |               ....                                    \n",
      "  -1000 |------------...----------------------------------------\n",
      "        |          ..                                           \n",
      "        |         /                                             \n",
      "        |       ..                                              \n",
      "        |      /                                                \n",
      "        |     /                                                 \n",
      "        |    /                                                  \n",
      "        |   /                                                   \n",
      "        |  /                                                    \n",
      "        | /                                                     \n",
      "  -6000 |_______________________________________________________\n",
      "         -10                        0                          10\n"
     ]
    },
    {
     "data": {
      "text/plain": [
       "<sympy.plotting.plot.Plot at 0x270cde4b9e0>"
      ]
     },
     "execution_count": 56,
     "metadata": {},
     "output_type": "execute_result"
    }
   ],
   "source": [
    "plot((5*x**3) - (10*x**2) + (2*x) - 2)"
   ]
  },
  {
   "cell_type": "code",
   "execution_count": 62,
   "metadata": {},
   "outputs": [
    {
     "name": "stdout",
     "output_type": "stream",
     "text": [
      "   1600 |                                                      /\n",
      "        |                                                     . \n",
      "        |.                                                      \n",
      "        |                                                    .  \n",
      "        | .                                                 /   \n",
      "        |  \\                                               .    \n",
      "        |   \\                                                   \n",
      "        |    .                                            .     \n",
      "        |                                                /      \n",
      "        |     .                                         /       \n",
      "    800 |------\\---------------------------------------/--------\n",
      "        |       \\                                     /         \n",
      "        |        ..                                  /          \n",
      "        |          \\                               ..           \n",
      "        |           \\                             /             \n",
      "        |            \\                           /              \n",
      "        |             ..                       ..               \n",
      "        |               ..                   ..                 \n",
      "        |                 ..               ..                   \n",
      "        |                   ...         ...                     \n",
      "      0 |_______________________________________________________\n",
      "         -10                        0                          10\n"
     ]
    },
    {
     "data": {
      "text/plain": [
       "<sympy.plotting.plot.Plot at 0x270ce0a1d00>"
      ]
     },
     "execution_count": 62,
     "metadata": {},
     "output_type": "execute_result"
    }
   ],
   "source": [
    "plot(15*(n**2) + 10*(n) + 2)"
   ]
  },
  {
   "cell_type": "code",
   "execution_count": 61,
   "metadata": {},
   "outputs": [
    {
     "data": {
      "text/plain": [
       "True"
      ]
     },
     "execution_count": 61,
     "metadata": {},
     "output_type": "execute_result"
    }
   ],
   "source": [
    "nota = 8\n",
    "media = 7\n",
    "\n",
    "nota >= media"
   ]
  },
  {
   "cell_type": "code",
   "execution_count": 63,
   "metadata": {},
   "outputs": [
    {
     "data": {
      "text/plain": [
       "True"
      ]
     },
     "execution_count": 63,
     "metadata": {},
     "output_type": "execute_result"
    }
   ],
   "source": [
    "salario = 1001\n",
    "idade = 20\n",
    "\n",
    "salario > 1000 and idade > 18"
   ]
  },
  {
   "cell_type": "code",
   "execution_count": 79,
   "metadata": {},
   "outputs": [
    {
     "name": "stdout",
     "output_type": "stream",
     "text": [
      "aprovado\n"
     ]
    }
   ],
   "source": [
    "nota = 7\n",
    "frequencia = 75\n",
    "\n",
    "nota > 7 and frequencia > 75\n",
    "\n"
   ]
  },
  {
   "cell_type": "code",
   "execution_count": 71,
   "metadata": {},
   "outputs": [
    {
     "name": "stdout",
     "output_type": "stream",
     "text": [
      "reprovado\n"
     ]
    }
   ],
   "source": [
    "nota = 7\n",
    "frequencia = 75\n",
    "\n",
    "nota < 7 and frequencia >= 75\n"
   ]
  },
  {
   "cell_type": "code",
   "execution_count": 75,
   "metadata": {},
   "outputs": [
    {
     "name": "stdout",
     "output_type": "stream",
     "text": [
      "reprovado\n"
     ]
    }
   ],
   "source": [
    "nota = 7\n",
    "frequencia = 75\n",
    "\n",
    "nota >= 7 and frequencia < 75\n"
   ]
  },
  {
   "cell_type": "code",
   "execution_count": 81,
   "metadata": {},
   "outputs": [
    {
     "data": {
      "text/plain": [
       "False"
      ]
     },
     "execution_count": 81,
     "metadata": {},
     "output_type": "execute_result"
    }
   ],
   "source": [
    "nota = 7\n",
    "frequencia = 75\n",
    "\n",
    "nota < 7 and frequencia < 75\n"
   ]
  },
  {
   "cell_type": "code",
   "execution_count": 97,
   "metadata": {},
   "outputs": [
    {
     "name": "stdout",
     "output_type": "stream",
     "text": [
      "aprovado\n"
     ]
    }
   ],
   "source": [
    "# codigo para ver se passa na catraca\n",
    "\n",
    "cartao = str(input(\"tem cartão?\"))\n",
    "aplicativo = str(input(\"tem aplicativo?\"))\n",
    "bilhete = str(input(\"tem bilhete?\"))\n",
    "\n",
    "if cartao == 'sim' and aplicativo == 'sim' and bilhete == 'sim':\n",
    "    print('passe')\n",
    "elif bilhete == 'sim' or aplicativo == 'sim' or cartao == 'sim':\n",
    "    print('passe')\n",
    "else:\n",
    "    print('não passe')\n"
   ]
  },
  {
   "cell_type": "code",
   "execution_count": 104,
   "metadata": {},
   "outputs": [
    {
     "name": "stdout",
     "output_type": "stream",
     "text": [
      "não passe\n"
     ]
    }
   ],
   "source": [
    "# logica booleana de entrada de trem\n",
    "ticket = true\n",
    "bilhete = false\n",
    "credito = true\n",
    "\n",
    "if (bilhete == true) and (credito == true) or (ticket == true):\n",
    "    print('passe')\n",
    "elif bilhete == false and credito == false or ticket == true:\n",
    "    print('passe')\n",
    "else:\n",
    "    print('não passe')\n",
    "    \n",
    "    "
   ]
  },
  {
   "cell_type": "code",
   "execution_count": 133,
   "metadata": {},
   "outputs": [
    {
     "name": "stdout",
     "output_type": "stream",
     "text": [
      "seu texto foi \"Hello world\" e ele tem 11 caracteres. \n"
     ]
    }
   ],
   "source": [
    "# testando o len()\n",
    "textoaleatorio = input('digite seu texto')\n",
    "print(f'seu texto foi \"{textoaleatorio[0].upper()}{textoaleatorio[1:]}\" e ele tem {len(textoaleatorio)} caracteres. ')"
   ]
  },
  {
   "cell_type": "code",
   "execution_count": 123,
   "metadata": {},
   "outputs": [
    {
     "data": {
      "text/plain": [
       "'meu nome é Ricardo tenho 19 anos e nasci em Osasco'"
      ]
     },
     "execution_count": 123,
     "metadata": {},
     "output_type": "execute_result"
    }
   ],
   "source": [
    "# joão tem 22 anos e apenas R$51.340000 no bolso\n",
    "# %s = string\n",
    "# %d = int\n",
    "# %f = float\n",
    "nome = str(input(\"digite seu nome\"))\n",
    "idade = str(input(\"Digite sua idade\"))\n",
    "cidade = str(input(\"Onde você nasceu?\"))\n",
    "\n",
    "#\"%s tem %d anos e apenas R$%f no bolso\"%(nome, idade, dinheiro)\n",
    "\n",
    "f\"meu nome é {nome} tenho {idade} anos e nasci em {cidade}\""
   ]
  }
 ],
 "metadata": {
  "kernelspec": {
   "display_name": "Python 3",
   "language": "python",
   "name": "python3"
  },
  "language_info": {
   "codemirror_mode": {
    "name": "ipython",
    "version": 3
   },
   "file_extension": ".py",
   "mimetype": "text/x-python",
   "name": "python",
   "nbconvert_exporter": "python",
   "pygments_lexer": "ipython3",
   "version": "3.12.2"
  }
 },
 "nbformat": 4,
 "nbformat_minor": 2
}
